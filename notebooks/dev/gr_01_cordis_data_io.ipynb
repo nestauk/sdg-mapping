{
 "cells": [
  {
   "cell_type": "markdown",
   "metadata": {},
   "source": [
    "# CORDIS Data IO"
   ]
  },
  {
   "cell_type": "markdown",
   "metadata": {},
   "source": [
    "Manual dataset inspection for writing functions to load and parse data."
   ]
  },
  {
   "cell_type": "code",
   "execution_count": null,
   "metadata": {},
   "outputs": [],
   "source": [
    "import pandas as pd\n",
    "import json"
   ]
  },
  {
   "cell_type": "code",
   "execution_count": null,
   "metadata": {},
   "outputs": [],
   "source": [
    "pd.set_option('max_columns', 100)\n",
    "fps = ['h2020', 'fp7', 'fp6', 'fp5', 'fp4', 'fp3', 'fp2', 'fp1']"
   ]
  },
  {
   "cell_type": "code",
   "execution_count": null,
   "metadata": {},
   "outputs": [],
   "source": [
    "project_read_opts = {'sep': ';', 'decimal': ',', 'parse_dates': ['startDate', 'endDate']}\n",
    "project_parse_opts = {'list_sep': ';', 'list_cols': ['participants', 'participantCountries', 'programme'], 'drop_cols': ['subjects']}\n",
    "\n",
    "\n",
    "h2020_org_read_opts = {'sep': ';', 'decimal': ',', 'parse_dates': ['lastUpdateDate']}\n",
    "h2020_org_parse_opts = {'list_sep': ';', 'list_cols': ['programme'], 'drop_cols': []}\n",
    "\n",
    "fp7_org_read_opts = {'sep': ';', 'decimal': ',', 'parse_dates': []}\n",
    "fp7_org_parse_opts = {'list_sep': ';', 'list_cols': ['programme'], 'drop_cols': []}"
   ]
  },
  {
   "cell_type": "code",
   "execution_count": null,
   "metadata": {},
   "outputs": [],
   "source": [
    "read_opts = {'projects': {f: project_read_opts for f in fps},\n",
    "             'organizations': {\n",
    "                 'h2020': h2020_org_read_opts,\n",
    "                 'fp7'\n",
    "                              },\n",
    "            }\n",
    "parse_opts = {'projects': project_parse_opts,\n",
    "             'organizations': org_parse_opts,\n",
    "             }"
   ]
  },
  {
   "cell_type": "code",
   "execution_count": null,
   "metadata": {},
   "outputs": [],
   "source": [
    "import json"
   ]
  },
  {
   "cell_type": "code",
   "execution_count": null,
   "metadata": {},
   "outputs": [],
   "source": [
    "with open('../../data/aux/cordis_parse_opts.json', 'w') as f:\n",
    "    json.dump(parse_opts, f)\n",
    "\n",
    "with open('../../data/aux/cordis_read_opts.json', 'w') as f:\n",
    "    json.dump(read_opts, f)"
   ]
  },
  {
   "cell_type": "code",
   "execution_count": null,
   "metadata": {},
   "outputs": [],
   "source": [
    "cordis_raw_params"
   ]
  },
  {
   "cell_type": "markdown",
   "metadata": {},
   "source": [
    "## H2020"
   ]
  },
  {
   "cell_type": "markdown",
   "metadata": {},
   "source": [
    "### H2020 Projects"
   ]
  },
  {
   "cell_type": "code",
   "execution_count": null,
   "metadata": {},
   "outputs": [],
   "source": [
    "h2020_projects = pd.read_csv('../../data/raw/cordis/h2020/raw/h2020_projects.csv', sep=';', decimal=',', \n",
    "                             parse_dates=['startDate', 'endDate'])"
   ]
  },
  {
   "cell_type": "code",
   "execution_count": null,
   "metadata": {},
   "outputs": [],
   "source": [
    "print(h2020_projects.shape)\n",
    "h2020_projects.head(2)"
   ]
  },
  {
   "cell_type": "markdown",
   "metadata": {},
   "source": [
    "### H2020 Orgs"
   ]
  },
  {
   "cell_type": "code",
   "execution_count": null,
   "metadata": {},
   "outputs": [],
   "source": [
    "h2020_orgs = pd.read_csv('../../data/raw/cordis/h2020/h2020_organizations.csv', sep=';', decimal=',')"
   ]
  },
  {
   "cell_type": "code",
   "execution_count": null,
   "metadata": {},
   "outputs": [],
   "source": [
    "print(h2020_orgs.shape)\n",
    "h2020_orgs.head(2)"
   ]
  },
  {
   "cell_type": "markdown",
   "metadata": {},
   "source": [
    "## FP7"
   ]
  },
  {
   "cell_type": "markdown",
   "metadata": {},
   "source": [
    "### FP7 Projects"
   ]
  },
  {
   "cell_type": "code",
   "execution_count": null,
   "metadata": {},
   "outputs": [],
   "source": [
    "fp7_projects = pd.read_csv('../../data/raw/cordis/fp7/raw/fp7_projects.csv', sep=';', decimal=',',\n",
    "                             parse_dates=['startDate', 'endDate'])"
   ]
  },
  {
   "cell_type": "code",
   "execution_count": null,
   "metadata": {},
   "outputs": [],
   "source": [
    "print(fp7_projects.shape)\n",
    "fp7_projects.head(2)"
   ]
  },
  {
   "cell_type": "markdown",
   "metadata": {},
   "source": [
    "### FP7 Orgs"
   ]
  },
  {
   "cell_type": "code",
   "execution_count": null,
   "metadata": {},
   "outputs": [],
   "source": [
    "fp7_orgs = pd.read_csv('../../data/raw/cordis/fp7/fp7_organizations.csv', sep=';', decimal=',')"
   ]
  },
  {
   "cell_type": "code",
   "execution_count": null,
   "metadata": {},
   "outputs": [],
   "source": [
    "print(fp7_orgs.shape)\n",
    "fp7_orgs.head(5)"
   ]
  },
  {
   "cell_type": "markdown",
   "metadata": {},
   "source": [
    "## FP6"
   ]
  },
  {
   "cell_type": "code",
   "execution_count": null,
   "metadata": {},
   "outputs": [],
   "source": [
    "fp6_projects = pd.read_csv('../../data/raw/cordis/fp6/raw/fp6_projects.csv', sep=';', decimal=',',\n",
    "                             parse_dates=['startDate', 'endDate'])"
   ]
  },
  {
   "cell_type": "code",
   "execution_count": null,
   "metadata": {},
   "outputs": [],
   "source": [
    "print(fp6_projects.shape)\n",
    "fp6_projects.head(2)"
   ]
  },
  {
   "cell_type": "code",
   "execution_count": null,
   "metadata": {},
   "outputs": [],
   "source": [
    "fp6_orgs = pd.read_csv(\n",
    "    '../../data/raw/cordis/fp6/fp6_organizations.csv', sep='\\t', decimal=',')"
   ]
  },
  {
   "cell_type": "code",
   "execution_count": null,
   "metadata": {},
   "outputs": [],
   "source": [
    "print(fp6_orgs.shape)\n",
    "fp6_orgs.head(5)"
   ]
  },
  {
   "cell_type": "markdown",
   "metadata": {},
   "source": [
    "## FP5"
   ]
  },
  {
   "cell_type": "code",
   "execution_count": null,
   "metadata": {},
   "outputs": [],
   "source": [
    "fp5_projects = pd.read_csv('../../data/raw/cordis/fp5/raw/fp5_projects.csv', sep=';', decimal=',',\n",
    "                             parse_dates=['startDate', 'endDate'])"
   ]
  },
  {
   "cell_type": "code",
   "execution_count": null,
   "metadata": {},
   "outputs": [],
   "source": [
    "print(fp5_projects.shape)\n",
    "fp5_projects.head(2)"
   ]
  },
  {
   "cell_type": "markdown",
   "metadata": {},
   "source": [
    "## FP4"
   ]
  },
  {
   "cell_type": "code",
   "execution_count": null,
   "metadata": {},
   "outputs": [],
   "source": [
    "fp4_projects = pd.read_csv('../../data/raw/cordis/fp4/raw/fp4_projects.csv', sep=';', decimal=',',\n",
    "                             parse_dates=['startDate', 'endDate'])"
   ]
  },
  {
   "cell_type": "code",
   "execution_count": null,
   "metadata": {},
   "outputs": [],
   "source": [
    "print(fp4_projects.shape)\n",
    "fp4_projects.head(2)"
   ]
  },
  {
   "cell_type": "markdown",
   "metadata": {},
   "source": [
    "## FP3"
   ]
  },
  {
   "cell_type": "code",
   "execution_count": null,
   "metadata": {},
   "outputs": [],
   "source": [
    "fp3_projects = pd.read_csv('../../data/raw/cordis/fp3/raw/fp3_projects.csv', sep=';', decimal=',',\n",
    "                             parse_dates=['startDate', 'endDate'])"
   ]
  },
  {
   "cell_type": "code",
   "execution_count": null,
   "metadata": {},
   "outputs": [],
   "source": [
    "print(fp3_projects.shape)\n",
    "fp3_projects.head(2)"
   ]
  },
  {
   "cell_type": "markdown",
   "metadata": {},
   "source": [
    "## FP2"
   ]
  },
  {
   "cell_type": "code",
   "execution_count": null,
   "metadata": {},
   "outputs": [],
   "source": [
    "fp2_projects = pd.read_csv('../../data/raw/cordis/fp2/raw/fp2_projects.csv', sep=';', decimal=',',\n",
    "                             parse_dates=['startDate', 'endDate'])"
   ]
  },
  {
   "cell_type": "code",
   "execution_count": null,
   "metadata": {},
   "outputs": [],
   "source": [
    "print(fp2_projects.shape)\n",
    "fp2_projects.head(2)"
   ]
  },
  {
   "cell_type": "markdown",
   "metadata": {},
   "source": [
    "## FP1"
   ]
  },
  {
   "cell_type": "code",
   "execution_count": null,
   "metadata": {},
   "outputs": [],
   "source": [
    "fp1_projects = pd.read_csv('../../data/raw/cordis/fp1/raw/fp1_projects.csv', sep=';', decimal=',',\n",
    "                             parse_dates=['startDate', 'endDate'])"
   ]
  },
  {
   "cell_type": "code",
   "execution_count": null,
   "metadata": {},
   "outputs": [],
   "source": [
    "print(fp1_projects.shape)\n",
    "fp1_projects.head(2)"
   ]
  },
  {
   "cell_type": "code",
   "execution_count": null,
   "metadata": {},
   "outputs": [],
   "source": [
    "rcn = []\n",
    "for fp in [h2020_projects, fp7_projects, fp6_projects, fp5_projects, fp4_projects, fp3_projects, fp2_projects, fp1_projects]:\n",
    "    rcn.extend(fp['rcn'].values)"
   ]
  },
  {
   "cell_type": "code",
   "execution_count": null,
   "metadata": {},
   "outputs": [],
   "source": [
    "import numpy as np"
   ]
  },
  {
   "cell_type": "code",
   "execution_count": null,
   "metadata": {},
   "outputs": [],
   "source": [
    "len(np.unique(rcn))"
   ]
  },
  {
   "cell_type": "code",
   "execution_count": null,
   "metadata": {},
   "outputs": [],
   "source": [
    "len(rcn)"
   ]
  },
  {
   "cell_type": "code",
   "execution_count": null,
   "metadata": {},
   "outputs": [],
   "source": [
    "set(fp5_projects['rcn']).intersection(set(fp6_projects['rcn']))"
   ]
  },
  {
   "cell_type": "code",
   "execution_count": null,
   "metadata": {},
   "outputs": [],
   "source": []
  },
  {
   "cell_type": "code",
   "execution_count": null,
   "metadata": {},
   "outputs": [],
   "source": [
    "fp5_projects[~pd.isnull(fp5_projects.status)]"
   ]
  },
  {
   "cell_type": "code",
   "execution_count": null,
   "metadata": {},
   "outputs": [],
   "source": [
    "print(h2020_sdg.shape)\n",
    "h2020_sdg.head()"
   ]
  },
  {
   "cell_type": "code",
   "execution_count": null,
   "metadata": {},
   "outputs": [],
   "source": [
    "pred_cols = [f'{str(i)}_pred' for i in range(1, 17)]\n",
    "sdg_cols = [f'sdg_{str(i)}' for i in range(1, 17)]"
   ]
  },
  {
   "cell_type": "code",
   "execution_count": null,
   "metadata": {},
   "outputs": [],
   "source": [
    "h2020_projects = h2020_projects.set_index('rcn').merge(h2020_sdg.set_index('rcn')[pred_cols], \n",
    "                                      left_index=True, right_index=True, how='right')\n",
    "h2020_projects = h2020_projects.rename(columns={old: new for old, new in zip(pred_cols, sdg_cols)})"
   ]
  },
  {
   "cell_type": "code",
   "execution_count": null,
   "metadata": {},
   "outputs": [],
   "source": [
    "h2020_projects[sdg_cols].sum().plot.barh()"
   ]
  },
  {
   "cell_type": "code",
   "execution_count": null,
   "metadata": {},
   "outputs": [],
   "source": [
    "h2020_projects.groupby(h2020_projects['startDate'].dt.year)[sdg_cols].sum().sum(axis=1)"
   ]
  },
  {
   "cell_type": "code",
   "execution_count": null,
   "metadata": {},
   "outputs": [],
   "source": [
    "h2020_projects.groupby(h2020_projects['startDate'].dt.year)[sdg_cols].sum().divide(\n",
    "    h2020_projects.groupby(h2020_projects['startDate'].dt.year)['id'].count(), axis=0).plot()"
   ]
  },
  {
   "cell_type": "code",
   "execution_count": null,
   "metadata": {},
   "outputs": [],
   "source": []
  }
 ],
 "metadata": {
  "language_info": {
   "name": "python",
   "pygments_lexer": "ipython3"
  }
 },
 "nbformat": 4,
 "nbformat_minor": 4
}
