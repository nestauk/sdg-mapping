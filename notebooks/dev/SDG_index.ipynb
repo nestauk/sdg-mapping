{
 "cells": [
  {
   "cell_type": "markdown",
   "metadata": {},
   "source": [
    "## Preamble"
   ]
  },
  {
   "cell_type": "code",
   "execution_count": 25,
   "metadata": {},
   "outputs": [],
   "source": [
    "import sys\n",
    "import os\n",
    "import urllib\n",
    "\n",
    "import json\n",
    "import numpy as np\n",
    "import pandas as pd\n",
    "\n",
    "from sdg_mapping import project_dir\n",
    "from sdg_mapping.utils.misc_utils import fetch"
   ]
  },
  {
   "cell_type": "markdown",
   "metadata": {
    "heading_collapsed": true
   },
   "source": [
    "## Main"
   ]
  },
  {
   "cell_type": "code",
   "execution_count": 14,
   "metadata": {
    "hidden": true
   },
   "outputs": [
    {
     "name": "stdout",
     "output_type": "stream",
     "text": [
      "/mnt/c/Users/aotubusen/Documents/DS Projects/sdg_research/sdg-mapping\n"
     ]
    }
   ],
   "source": [
    "print(project_dir)\n",
    "year =2019"
   ]
  },
  {
   "cell_type": "code",
   "execution_count": 15,
   "metadata": {
    "hidden": true
   },
   "outputs": [],
   "source": [
    "url = 'https://github.com/sdsna/2019GlobalIndex/raw/master/2019GlobalIndexResults.xlsx'"
   ]
  },
  {
   "cell_type": "code",
   "execution_count": 16,
   "metadata": {
    "hidden": true
   },
   "outputs": [
    {
     "data": {
      "text/plain": [
       "('/mnt/c/Users/aotubusen/Documents/DS Projects/sdg_research/sdg-mapping/data/raw/2019_sdg_index.xlsx',\n",
       " <http.client.HTTPMessage at 0x7fc286420320>)"
      ]
     },
     "execution_count": 16,
     "metadata": {},
     "output_type": "execute_result"
    }
   ],
   "source": [
    "urllib.request.urlretrieve(url, f'{project_dir}/data/raw/{year}_sdg_index.xlsx')"
   ]
  },
  {
   "cell_type": "code",
   "execution_count": 107,
   "metadata": {
    "code_folding": [
     0,
     7
    ],
    "hidden": true
   },
   "outputs": [],
   "source": [
    "def fetch_index(year): #, fout=None\n",
    "    url = None\n",
    "    if year == 2019:\n",
    "        url = 'https://github.com/sdsna/2019GlobalIndex/raw/master/2019GlobalIndexResults.xlsx'\n",
    "\n",
    "        fname = f'{year}_sdg_index.xlsx'\n",
    "    return urllib.request.urlretrieve(url, f'{project_dir}/data/raw/{fname}')\n",
    "def sdg_index_file_path(year):\n",
    "\n",
    "    fname = f'{year}_sdg_index.xlsx'\n",
    "    return f'{project_dir}/data/raw/{fname}' #/sdg_index\n",
    "def read_workbook(data_sheet_name, data_path):\n",
    "    # SDR2019 Data\n",
    "    df = pd.read_excel(open(data_path, 'rb'),\n",
    "              sheet_name=data_sheet_name)\n",
    "    df.columns = df.iloc[0].values\n",
    "    return df\n",
    "def parse_2019_sdg_index(dataset):\n",
    "    #{project_dir}\n",
    "    with open(f'{project_dir}/data/aux/sdg_index_mappings.json', 'r') as f:\n",
    "        maps = json.load(f)\n",
    "    \n",
    "    trend_map = maps['trend_map']\n",
    "    achievement_map = maps['achievement_map']\n",
    "\n",
    "    sdg_index_19_df = dataset.drop([0]).reset_index(drop=True)\n",
    "    \n",
    "    trend_columns = [i for i in sdg_index_19_df.columns if 'Trend' in i]\n",
    "    dashboard_columns = [i for i in sdg_index_19_df.columns if (('Dashboard' in i) and ('Goal' in i))]\n",
    "\n",
    "\n",
    "    for j in trend_columns:\n",
    "        sdg_index_19_df[j] = sdg_index_19_df[j].map(trend_map)\n",
    "    for j in dashboard_columns:\n",
    "        sdg_index_19_df[j] = sdg_index_19_df[j].map(achievement_map)\n",
    "\n",
    "#     sdg_index_19_df.to_csv('test.csv')\n",
    "\n",
    "    return sdg_index_19_df#[trend_columns]"
   ]
  },
  {
   "cell_type": "code",
   "execution_count": 108,
   "metadata": {
    "hidden": true
   },
   "outputs": [
    {
     "data": {
      "text/plain": [
       "('/mnt/c/Users/aotubusen/Documents/DS Projects/sdg_research/sdg-mapping/data/raw/2019_sdg_index.xlsx',\n",
       " <http.client.HTTPMessage at 0x7fc26c13fef0>)"
      ]
     },
     "execution_count": 108,
     "metadata": {},
     "output_type": "execute_result"
    }
   ],
   "source": [
    "fetch_index(2019)"
   ]
  },
  {
   "cell_type": "code",
   "execution_count": 109,
   "metadata": {
    "hidden": true
   },
   "outputs": [],
   "source": [
    "fin = sdg_index_file_path(year)"
   ]
  },
  {
   "cell_type": "code",
   "execution_count": 110,
   "metadata": {
    "hidden": true,
    "scrolled": true
   },
   "outputs": [],
   "source": [
    "df = read_workbook('SDR2019 Data', fin)"
   ]
  },
  {
   "cell_type": "code",
   "execution_count": 111,
   "metadata": {
    "hidden": true,
    "scrolled": true
   },
   "outputs": [
    {
     "data": {
      "text/html": [
       "<div>\n",
       "<style scoped>\n",
       "    .dataframe tbody tr th:only-of-type {\n",
       "        vertical-align: middle;\n",
       "    }\n",
       "\n",
       "    .dataframe tbody tr th {\n",
       "        vertical-align: top;\n",
       "    }\n",
       "\n",
       "    .dataframe thead th {\n",
       "        text-align: right;\n",
       "    }\n",
       "</style>\n",
       "<table border=\"1\" class=\"dataframe\">\n",
       "  <thead>\n",
       "    <tr style=\"text-align: right;\">\n",
       "      <th></th>\n",
       "      <th>Country</th>\n",
       "      <th>id</th>\n",
       "      <th>2019 Global Index Score (0-100)</th>\n",
       "      <th>2019 Global Index Rank</th>\n",
       "      <th>Percentage missing values</th>\n",
       "      <th>Regional Score (0-100)</th>\n",
       "      <th>Spillover Score (0-100)</th>\n",
       "      <th>UN region name</th>\n",
       "      <th>Regions used for the SDG Index &amp; Dashboard</th>\n",
       "      <th>Income Group in 2019</th>\n",
       "      <th>...</th>\n",
       "      <th>Goal 8 Regional Score</th>\n",
       "      <th>Goal 9 Regional Score</th>\n",
       "      <th>Goal 10 Regional Score</th>\n",
       "      <th>Goal 11 Regional Score</th>\n",
       "      <th>Goal 12 Regional Score</th>\n",
       "      <th>Goal 13 Regional Score</th>\n",
       "      <th>Goal 14 Regional Score</th>\n",
       "      <th>Goal 15 Regional Score</th>\n",
       "      <th>Goal 16 Regional Score</th>\n",
       "      <th>Goal 17 Regional Score</th>\n",
       "    </tr>\n",
       "  </thead>\n",
       "  <tbody>\n",
       "    <tr>\n",
       "      <th>0</th>\n",
       "      <td>Afghanistan</td>\n",
       "      <td>AFG</td>\n",
       "      <td>49.6492</td>\n",
       "      <td>153</td>\n",
       "      <td>11.25</td>\n",
       "      <td>70.366</td>\n",
       "      <td>94.5116</td>\n",
       "      <td>Asia</td>\n",
       "      <td>E. Europe &amp; C. Asia</td>\n",
       "      <td>LIC</td>\n",
       "      <td>...</td>\n",
       "      <td>70.8449</td>\n",
       "      <td>32.2131</td>\n",
       "      <td>68.0691</td>\n",
       "      <td>76.6235</td>\n",
       "      <td>78.949</td>\n",
       "      <td>87.2528</td>\n",
       "      <td>40.7251</td>\n",
       "      <td>66.2236</td>\n",
       "      <td>69.4011</td>\n",
       "      <td>69.8171</td>\n",
       "    </tr>\n",
       "    <tr>\n",
       "      <th>1</th>\n",
       "      <td>Angola</td>\n",
       "      <td>AGO</td>\n",
       "      <td>51.3204</td>\n",
       "      <td>149</td>\n",
       "      <td>2.38095</td>\n",
       "      <td>53.7825</td>\n",
       "      <td>98.5982</td>\n",
       "      <td>Africa</td>\n",
       "      <td>Africa</td>\n",
       "      <td>LMIC</td>\n",
       "      <td>...</td>\n",
       "      <td>63.2525</td>\n",
       "      <td>14.5609</td>\n",
       "      <td>46.6141</td>\n",
       "      <td>58.9167</td>\n",
       "      <td>92.0957</td>\n",
       "      <td>91.0864</td>\n",
       "      <td>54.5106</td>\n",
       "      <td>67.7353</td>\n",
       "      <td>54.2044</td>\n",
       "      <td>60.8872</td>\n",
       "    </tr>\n",
       "    <tr>\n",
       "      <th>2</th>\n",
       "      <td>Albania</td>\n",
       "      <td>ALB</td>\n",
       "      <td>70.2726</td>\n",
       "      <td>60</td>\n",
       "      <td>1.19048</td>\n",
       "      <td>70.366</td>\n",
       "      <td>89.6843</td>\n",
       "      <td>Europe</td>\n",
       "      <td>E. Europe &amp; C. Asia</td>\n",
       "      <td>UMIC</td>\n",
       "      <td>...</td>\n",
       "      <td>70.8449</td>\n",
       "      <td>32.2131</td>\n",
       "      <td>68.0691</td>\n",
       "      <td>76.6235</td>\n",
       "      <td>78.949</td>\n",
       "      <td>87.2528</td>\n",
       "      <td>40.7251</td>\n",
       "      <td>66.2236</td>\n",
       "      <td>69.4011</td>\n",
       "      <td>69.8171</td>\n",
       "    </tr>\n",
       "    <tr>\n",
       "      <th>3</th>\n",
       "      <td>Andorra</td>\n",
       "      <td>AND</td>\n",
       "      <td>NaN</td>\n",
       "      <td>NaN</td>\n",
       "      <td>NaN</td>\n",
       "      <td>70.366</td>\n",
       "      <td>NaN</td>\n",
       "      <td>Europe</td>\n",
       "      <td>E. Europe &amp; C. Asia</td>\n",
       "      <td>HIC</td>\n",
       "      <td>...</td>\n",
       "      <td>NaN</td>\n",
       "      <td>NaN</td>\n",
       "      <td>NaN</td>\n",
       "      <td>NaN</td>\n",
       "      <td>NaN</td>\n",
       "      <td>NaN</td>\n",
       "      <td>NaN</td>\n",
       "      <td>NaN</td>\n",
       "      <td>NaN</td>\n",
       "      <td>NaN</td>\n",
       "    </tr>\n",
       "    <tr>\n",
       "      <th>4</th>\n",
       "      <td>United Arab Emirates</td>\n",
       "      <td>ARE</td>\n",
       "      <td>69.7089</td>\n",
       "      <td>65</td>\n",
       "      <td>9.52381</td>\n",
       "      <td>65.8835</td>\n",
       "      <td>47.4274</td>\n",
       "      <td>Asia</td>\n",
       "      <td>MENA</td>\n",
       "      <td>HIC</td>\n",
       "      <td>...</td>\n",
       "      <td>65.0102</td>\n",
       "      <td>37.6347</td>\n",
       "      <td>69.99</td>\n",
       "      <td>60.0227</td>\n",
       "      <td>73.234</td>\n",
       "      <td>78.2093</td>\n",
       "      <td>49.6869</td>\n",
       "      <td>57.8265</td>\n",
       "      <td>68.2358</td>\n",
       "      <td>73.9426</td>\n",
       "    </tr>\n",
       "    <tr>\n",
       "      <th>...</th>\n",
       "      <td>...</td>\n",
       "      <td>...</td>\n",
       "      <td>...</td>\n",
       "      <td>...</td>\n",
       "      <td>...</td>\n",
       "      <td>...</td>\n",
       "      <td>...</td>\n",
       "      <td>...</td>\n",
       "      <td>...</td>\n",
       "      <td>...</td>\n",
       "      <td>...</td>\n",
       "      <td>...</td>\n",
       "      <td>...</td>\n",
       "      <td>...</td>\n",
       "      <td>...</td>\n",
       "      <td>...</td>\n",
       "      <td>...</td>\n",
       "      <td>...</td>\n",
       "      <td>...</td>\n",
       "      <td>...</td>\n",
       "      <td>...</td>\n",
       "    </tr>\n",
       "    <tr>\n",
       "      <th>188</th>\n",
       "      <td>Samoa</td>\n",
       "      <td>WSM</td>\n",
       "      <td>NaN</td>\n",
       "      <td>NaN</td>\n",
       "      <td>NaN</td>\n",
       "      <td>60.5201</td>\n",
       "      <td>NaN</td>\n",
       "      <td>Oceania</td>\n",
       "      <td>Oceania</td>\n",
       "      <td>UMIC</td>\n",
       "      <td>...</td>\n",
       "      <td>NaN</td>\n",
       "      <td>NaN</td>\n",
       "      <td>NaN</td>\n",
       "      <td>NaN</td>\n",
       "      <td>NaN</td>\n",
       "      <td>NaN</td>\n",
       "      <td>NaN</td>\n",
       "      <td>NaN</td>\n",
       "      <td>NaN</td>\n",
       "      <td>NaN</td>\n",
       "    </tr>\n",
       "    <tr>\n",
       "      <th>189</th>\n",
       "      <td>Yemen, Rep.</td>\n",
       "      <td>YEM</td>\n",
       "      <td>53.7021</td>\n",
       "      <td>133</td>\n",
       "      <td>9.52381</td>\n",
       "      <td>65.8835</td>\n",
       "      <td>94.1096</td>\n",
       "      <td>Asia</td>\n",
       "      <td>MENA</td>\n",
       "      <td>LIC</td>\n",
       "      <td>...</td>\n",
       "      <td>65.0102</td>\n",
       "      <td>37.6347</td>\n",
       "      <td>69.99</td>\n",
       "      <td>60.0227</td>\n",
       "      <td>73.234</td>\n",
       "      <td>78.2093</td>\n",
       "      <td>49.6869</td>\n",
       "      <td>57.8265</td>\n",
       "      <td>68.2358</td>\n",
       "      <td>73.9426</td>\n",
       "    </tr>\n",
       "    <tr>\n",
       "      <th>190</th>\n",
       "      <td>South Africa</td>\n",
       "      <td>ZAF</td>\n",
       "      <td>61.4809</td>\n",
       "      <td>113</td>\n",
       "      <td>1.19048</td>\n",
       "      <td>53.7825</td>\n",
       "      <td>97.1035</td>\n",
       "      <td>Africa</td>\n",
       "      <td>Africa</td>\n",
       "      <td>UMIC</td>\n",
       "      <td>...</td>\n",
       "      <td>63.2525</td>\n",
       "      <td>14.5609</td>\n",
       "      <td>46.6141</td>\n",
       "      <td>58.9167</td>\n",
       "      <td>92.0957</td>\n",
       "      <td>91.0864</td>\n",
       "      <td>54.5106</td>\n",
       "      <td>67.7353</td>\n",
       "      <td>54.2044</td>\n",
       "      <td>60.8872</td>\n",
       "    </tr>\n",
       "    <tr>\n",
       "      <th>191</th>\n",
       "      <td>Zambia</td>\n",
       "      <td>ZMB</td>\n",
       "      <td>52.6151</td>\n",
       "      <td>139</td>\n",
       "      <td>0</td>\n",
       "      <td>53.7825</td>\n",
       "      <td>98.8037</td>\n",
       "      <td>Africa</td>\n",
       "      <td>Africa</td>\n",
       "      <td>LMIC</td>\n",
       "      <td>...</td>\n",
       "      <td>63.2525</td>\n",
       "      <td>14.5609</td>\n",
       "      <td>46.6141</td>\n",
       "      <td>58.9167</td>\n",
       "      <td>92.0957</td>\n",
       "      <td>91.0864</td>\n",
       "      <td>54.5106</td>\n",
       "      <td>67.7353</td>\n",
       "      <td>54.2044</td>\n",
       "      <td>60.8872</td>\n",
       "    </tr>\n",
       "    <tr>\n",
       "      <th>192</th>\n",
       "      <td>Zimbabwe</td>\n",
       "      <td>ZWE</td>\n",
       "      <td>59.6735</td>\n",
       "      <td>121</td>\n",
       "      <td>7.5</td>\n",
       "      <td>53.7825</td>\n",
       "      <td>96.0961</td>\n",
       "      <td>Africa</td>\n",
       "      <td>Africa</td>\n",
       "      <td>LIC</td>\n",
       "      <td>...</td>\n",
       "      <td>63.2525</td>\n",
       "      <td>14.5609</td>\n",
       "      <td>46.6141</td>\n",
       "      <td>58.9167</td>\n",
       "      <td>92.0957</td>\n",
       "      <td>91.0864</td>\n",
       "      <td>54.5106</td>\n",
       "      <td>67.7353</td>\n",
       "      <td>54.2044</td>\n",
       "      <td>60.8872</td>\n",
       "    </tr>\n",
       "  </tbody>\n",
       "</table>\n",
       "<p>193 rows × 486 columns</p>\n",
       "</div>"
      ],
      "text/plain": [
       "                  Country   id 2019 Global Index Score (0-100)  \\\n",
       "0             Afghanistan  AFG                         49.6492   \n",
       "1                  Angola  AGO                         51.3204   \n",
       "2                 Albania  ALB                         70.2726   \n",
       "3                 Andorra  AND                             NaN   \n",
       "4    United Arab Emirates  ARE                         69.7089   \n",
       "..                    ...  ...                             ...   \n",
       "188                 Samoa  WSM                             NaN   \n",
       "189           Yemen, Rep.  YEM                         53.7021   \n",
       "190          South Africa  ZAF                         61.4809   \n",
       "191                Zambia  ZMB                         52.6151   \n",
       "192              Zimbabwe  ZWE                         59.6735   \n",
       "\n",
       "    2019 Global Index Rank Percentage missing values Regional Score (0-100)  \\\n",
       "0                      153                     11.25                 70.366   \n",
       "1                      149                   2.38095                53.7825   \n",
       "2                       60                   1.19048                 70.366   \n",
       "3                      NaN                       NaN                 70.366   \n",
       "4                       65                   9.52381                65.8835   \n",
       "..                     ...                       ...                    ...   \n",
       "188                    NaN                       NaN                60.5201   \n",
       "189                    133                   9.52381                65.8835   \n",
       "190                    113                   1.19048                53.7825   \n",
       "191                    139                         0                53.7825   \n",
       "192                    121                       7.5                53.7825   \n",
       "\n",
       "    Spillover Score (0-100) UN region name  \\\n",
       "0                   94.5116           Asia   \n",
       "1                   98.5982         Africa   \n",
       "2                   89.6843         Europe   \n",
       "3                       NaN         Europe   \n",
       "4                   47.4274           Asia   \n",
       "..                      ...            ...   \n",
       "188                     NaN        Oceania   \n",
       "189                 94.1096           Asia   \n",
       "190                 97.1035         Africa   \n",
       "191                 98.8037         Africa   \n",
       "192                 96.0961         Africa   \n",
       "\n",
       "    Regions used for the SDG Index & Dashboard Income Group in 2019  ...  \\\n",
       "0                          E. Europe & C. Asia                  LIC  ...   \n",
       "1                                       Africa                 LMIC  ...   \n",
       "2                          E. Europe & C. Asia                 UMIC  ...   \n",
       "3                          E. Europe & C. Asia                  HIC  ...   \n",
       "4                                         MENA                  HIC  ...   \n",
       "..                                         ...                  ...  ...   \n",
       "188                                    Oceania                 UMIC  ...   \n",
       "189                                       MENA                  LIC  ...   \n",
       "190                                     Africa                 UMIC  ...   \n",
       "191                                     Africa                 LMIC  ...   \n",
       "192                                     Africa                  LIC  ...   \n",
       "\n",
       "    Goal 8 Regional Score Goal 9 Regional Score Goal 10 Regional Score  \\\n",
       "0                 70.8449               32.2131                68.0691   \n",
       "1                 63.2525               14.5609                46.6141   \n",
       "2                 70.8449               32.2131                68.0691   \n",
       "3                     NaN                   NaN                    NaN   \n",
       "4                 65.0102               37.6347                  69.99   \n",
       "..                    ...                   ...                    ...   \n",
       "188                   NaN                   NaN                    NaN   \n",
       "189               65.0102               37.6347                  69.99   \n",
       "190               63.2525               14.5609                46.6141   \n",
       "191               63.2525               14.5609                46.6141   \n",
       "192               63.2525               14.5609                46.6141   \n",
       "\n",
       "    Goal 11 Regional Score Goal 12 Regional Score Goal 13 Regional Score  \\\n",
       "0                  76.6235                 78.949                87.2528   \n",
       "1                  58.9167                92.0957                91.0864   \n",
       "2                  76.6235                 78.949                87.2528   \n",
       "3                      NaN                    NaN                    NaN   \n",
       "4                  60.0227                 73.234                78.2093   \n",
       "..                     ...                    ...                    ...   \n",
       "188                    NaN                    NaN                    NaN   \n",
       "189                60.0227                 73.234                78.2093   \n",
       "190                58.9167                92.0957                91.0864   \n",
       "191                58.9167                92.0957                91.0864   \n",
       "192                58.9167                92.0957                91.0864   \n",
       "\n",
       "    Goal 14 Regional Score Goal 15 Regional Score Goal 16 Regional Score  \\\n",
       "0                  40.7251                66.2236                69.4011   \n",
       "1                  54.5106                67.7353                54.2044   \n",
       "2                  40.7251                66.2236                69.4011   \n",
       "3                      NaN                    NaN                    NaN   \n",
       "4                  49.6869                57.8265                68.2358   \n",
       "..                     ...                    ...                    ...   \n",
       "188                    NaN                    NaN                    NaN   \n",
       "189                49.6869                57.8265                68.2358   \n",
       "190                54.5106                67.7353                54.2044   \n",
       "191                54.5106                67.7353                54.2044   \n",
       "192                54.5106                67.7353                54.2044   \n",
       "\n",
       "    Goal 17 Regional Score  \n",
       "0                  69.8171  \n",
       "1                  60.8872  \n",
       "2                  69.8171  \n",
       "3                      NaN  \n",
       "4                  73.9426  \n",
       "..                     ...  \n",
       "188                    NaN  \n",
       "189                73.9426  \n",
       "190                60.8872  \n",
       "191                60.8872  \n",
       "192                60.8872  \n",
       "\n",
       "[193 rows x 486 columns]"
      ]
     },
     "execution_count": 111,
     "metadata": {},
     "output_type": "execute_result"
    }
   ],
   "source": [
    "parse_2019_sdg_index(df)"
   ]
  },
  {
   "cell_type": "markdown",
   "metadata": {
    "hidden": true
   },
   "source": [
    "---"
   ]
  },
  {
   "cell_type": "markdown",
   "metadata": {
    "heading_collapsed": true
   },
   "source": [
    "## Draft code"
   ]
  },
  {
   "cell_type": "code",
   "execution_count": 70,
   "metadata": {
    "hidden": true
   },
   "outputs": [],
   "source": [
    "# sdg_index_19 = pd.read_excel(open('../../data/raw/2019GlobalIndexResults.xlsx', 'rb'),\n",
    "#               sheet_name='SDR2019 Data')\n",
    "d ='../../data/raw/2019GlobalIndexResults.xlsx'\n",
    "sdg_index_19 = pd.read_excel(open(d, 'rb'),\n",
    "              sheet_name='SDR2019 Data')\n",
    "sdg_index_19.columns = sdg_index_19.iloc[0].values\n"
   ]
  },
  {
   "cell_type": "code",
   "execution_count": 58,
   "metadata": {
    "hidden": true
   },
   "outputs": [],
   "source": [
    "maps = {\n",
    "  'trend_map' : {\n",
    "    '.': np.nan,\n",
    "    '↑': 'increasing_on_track',\n",
    "    '➚': 'increasing_moderately',\n",
    "    '→': 'stagnant',\n",
    "    '↓': 'decreasing'\n",
    "  },\n",
    "\n",
    "  'achievement_map' : {\n",
    "    'green': 'goal_achievement',\n",
    "    'yellow': 'challenges_remain',\n",
    "    'orange': 'significant_challenges',\n",
    "    'red': 'major_challenges'\n",
    "  }\n",
    "}"
   ]
  },
  {
   "cell_type": "code",
   "execution_count": 65,
   "metadata": {
    "hidden": true
   },
   "outputs": [],
   "source": [
    "with open(f'../../data/aux/sdg_index_mappings.json', 'w') as f:\n",
    "    json.dump(maps,f)"
   ]
  },
  {
   "cell_type": "code",
   "execution_count": 66,
   "metadata": {
    "hidden": true
   },
   "outputs": [],
   "source": [
    "with open(f'../../data/aux/sdg_index_mappings.json', 'r') as f:\n",
    "#     parse_opts = f.read().decode(\"UTF-8\")\n",
    "    parse_opts = json.load(f)\n"
   ]
  },
  {
   "cell_type": "code",
   "execution_count": 114,
   "metadata": {
    "hidden": true
   },
   "outputs": [],
   "source": [
    "parse_opts['trend_map']"
   ]
  },
  {
   "cell_type": "code",
   "execution_count": 68,
   "metadata": {
    "hidden": true
   },
   "outputs": [],
   "source": [
    "trend_map = {\n",
    "    '.': np.nan,\n",
    "    '↑': 'increasing_on_track',\n",
    "    '➚': 'increasing_moderately',\n",
    "    '→': 'stagnant',\n",
    "    '↓': 'decreasing'\n",
    "}\n",
    "\n",
    "achievement_map = {\n",
    "    'green': 'goal_achievement',\n",
    "    'yellow': 'challenges_remain',\n",
    "    'orange': 'significant_challenges',\n",
    "    'red': 'major_challenges'\n",
    "}\n"
   ]
  },
  {
   "cell_type": "code",
   "execution_count": 49,
   "metadata": {
    "hidden": true
   },
   "outputs": [],
   "source": [
    "sdg_index_19_df = sdg_index_19.drop([0]).reset_index(drop=True)"
   ]
  },
  {
   "cell_type": "code",
   "execution_count": 113,
   "metadata": {
    "hidden": true
   },
   "outputs": [],
   "source": [
    "sdg_index_19_df.head()"
   ]
  },
  {
   "cell_type": "code",
   "execution_count": 51,
   "metadata": {
    "hidden": true
   },
   "outputs": [],
   "source": [
    "trend_columns = [i for i in sdg_index_19_df.columns if 'Trend' in i]\n",
    "dashboard_columns = [i for i in sdg_index_19_df.columns if (('Dashboard' in i) and ('Goal' in i))]"
   ]
  },
  {
   "cell_type": "code",
   "execution_count": 52,
   "metadata": {
    "hidden": true
   },
   "outputs": [],
   "source": [
    "for j in trend_columns:\n",
    "    sdg_index_19_df[j] = sdg_index_19_df[j].map(trend_map)"
   ]
  },
  {
   "cell_type": "code",
   "execution_count": 53,
   "metadata": {
    "hidden": true
   },
   "outputs": [],
   "source": [
    "for j in dashboard_columns:\n",
    "    sdg_index_19_df[j] = sdg_index_19_df[j].map(achievement_map)"
   ]
  },
  {
   "cell_type": "code",
   "execution_count": 112,
   "metadata": {
    "hidden": true
   },
   "outputs": [],
   "source": [
    "sdg_index_19_df[dashboard_columns]#.map(trend_map)"
   ]
  },
  {
   "cell_type": "code",
   "execution_count": null,
   "metadata": {
    "hidden": true
   },
   "outputs": [],
   "source": []
  }
 ],
 "metadata": {
  "kernelspec": {
   "display_name": "Python 3",
   "language": "python",
   "name": "python3"
  },
  "language_info": {
   "codemirror_mode": {
    "name": "ipython",
    "version": 3
   },
   "file_extension": ".py",
   "mimetype": "text/x-python",
   "name": "python",
   "nbconvert_exporter": "python",
   "pygments_lexer": "ipython3",
   "version": "3.6.7"
  },
  "toc": {
   "base_numbering": 1,
   "nav_menu": {},
   "number_sections": true,
   "sideBar": true,
   "skip_h1_title": false,
   "title_cell": "Table of Contents",
   "title_sidebar": "Contents",
   "toc_cell": false,
   "toc_position": {},
   "toc_section_display": true,
   "toc_window_display": false
  }
 },
 "nbformat": 4,
 "nbformat_minor": 4
}
