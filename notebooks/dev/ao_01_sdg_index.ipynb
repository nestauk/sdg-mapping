{
 "cells": [
  {
   "cell_type": "markdown",
   "metadata": {},
   "source": [
    "## Preamble"
   ]
  },
  {
   "cell_type": "code",
   "execution_count": null,
   "metadata": {},
   "outputs": [],
   "source": [
    "import sys\n",
    "import os\n",
    "import urllib\n",
    "\n",
    "import json\n",
    "import numpy as np\n",
    "import pandas as pd\n",
    "\n",
    "from sdg_mapping import project_dir\n",
    "from sdg_mapping.utils.misc_utils import fetch"
   ]
  },
  {
   "cell_type": "markdown",
   "metadata": {},
   "source": [
    "## Main"
   ]
  },
  {
   "cell_type": "code",
   "execution_count": null,
   "metadata": {},
   "outputs": [],
   "source": [
    "print(project_dir)\n",
    "year =2019"
   ]
  },
  {
   "cell_type": "code",
   "execution_count": null,
   "metadata": {},
   "outputs": [],
   "source": [
    "with open(f'{project_dir}/data/aux/sdg_index_url_suffixes.json', 'r') as f:\n",
    "        sdg_index_url_suffixes = json.load(f)\n",
    "        print(sdg_index_url_suffixes)"
   ]
  },
  {
   "cell_type": "code",
   "execution_count": null,
   "metadata": {},
   "outputs": [],
   "source": [
    "for i,l in sdg_index_url_suffixes.items():\n",
    "    print(l)"
   ]
  },
  {
   "cell_type": "code",
   "execution_count": null,
   "metadata": {},
   "outputs": [],
   "source": [
    "url = 'https://github.com/sdsna/2019GlobalIndex/raw/master/2019GlobalIndexResults.xlsx'"
   ]
  },
  {
   "cell_type": "code",
   "execution_count": null,
   "metadata": {},
   "outputs": [],
   "source": [
    "# urllib.request.urlretrieve(url, f'{project_dir}/data/raw/{year}_sdg_index.xlsx')"
   ]
  },
  {
   "cell_type": "code",
   "execution_count": null,
   "metadata": {},
   "outputs": [],
   "source": [
    "def fetch_index(year): #, fout=None\n",
    "    url = None\n",
    "    if year == 2019:\n",
    "        url = 'https://github.com/sdsna/2019GlobalIndex/raw/master/2019GlobalIndexResults.xlsx'\n",
    "\n",
    "        fname = f'{year}_sdg_index.xlsx'\n",
    "    return urllib.request.urlretrieve(url, f'{project_dir}/data/raw/{fname}')\n",
    "def sdg_index_file_path(year):\n",
    "\n",
    "    fname = f'{year}_sdg_index.xlsx'\n",
    "    return f'{project_dir}/data/raw/{fname}' #/sdg_index\n",
    "def read_workbook(data_sheet_name, data_path):\n",
    "    # SDR2019 Data\n",
    "    df = pd.read_excel(open(data_path, 'rb'),\n",
    "              sheet_name=data_sheet_name)\n",
    "    df.columns = df.iloc[0].values\n",
    "    return df\n",
    "def parse_2019_sdg_index(dataset):\n",
    "    #{project_dir}\n",
    "    with open(f'{project_dir}/data/aux/sdg_index_mappings.json', 'r') as f:\n",
    "        maps = json.load(f)\n",
    "    \n",
    "    trend_map = maps['trend_map']\n",
    "    achievement_map = maps['achievement_map']\n",
    "\n",
    "    sdg_index_19_df = dataset.drop([0]).reset_index(drop=True)\n",
    "    \n",
    "    trend_columns = [i for i in sdg_index_19_df.columns if 'Trend' in i]\n",
    "    dashboard_columns = [i for i in sdg_index_19_df.columns if (('Dashboard' in i) and ('Goal' in i))]\n",
    "\n",
    "\n",
    "    for j in trend_columns:\n",
    "        sdg_index_19_df[j] = sdg_index_19_df[j].map(trend_map)\n",
    "    for j in dashboard_columns:\n",
    "        sdg_index_19_df[j] = sdg_index_19_df[j].map(achievement_map)\n",
    "\n",
    "#     sdg_index_19_df.to_csv('test.csv')\n",
    "\n",
    "    return sdg_index_19_df#[trend_columns]"
   ]
  },
  {
   "cell_type": "code",
   "execution_count": null,
   "metadata": {},
   "outputs": [],
   "source": [
    "fetch_index(2019)"
   ]
  },
  {
   "cell_type": "code",
   "execution_count": null,
   "metadata": {},
   "outputs": [],
   "source": [
    "fin = sdg_index_file_path(year)"
   ]
  },
  {
   "cell_type": "code",
   "execution_count": null,
   "metadata": {},
   "outputs": [],
   "source": [
    "df = read_workbook('SDR2019 Data', fin)"
   ]
  },
  {
   "cell_type": "code",
   "execution_count": null,
   "metadata": {},
   "outputs": [],
   "source": [
    "parse_2019_sdg_index(df)"
   ]
  },
  {
   "cell_type": "markdown",
   "metadata": {},
   "source": [
    "---"
   ]
  },
  {
   "cell_type": "markdown",
   "metadata": {},
   "source": [
    "## Draft code"
   ]
  },
  {
   "cell_type": "code",
   "execution_count": null,
   "metadata": {},
   "outputs": [],
   "source": [
    "# sdg_index_19 = pd.read_excel(open('../../data/raw/2019GlobalIndexResults.xlsx', 'rb'),\n",
    "#               sheet_name='SDR2019 Data')\n",
    "d ='../../data/raw/2019_sdg_index.xlsx'\n",
    "sdg_index_19 = pd.read_excel(open(d, 'rb'),\n",
    "              sheet_name='SDR2019 Data', header = 1)\n",
    "# sdg_index_19.columns = sdg_index_19.iloc[0].values\n"
   ]
  },
  {
   "cell_type": "code",
   "execution_count": null,
   "metadata": {},
   "outputs": [],
   "source": [
    "maps = {\n",
    "  'trend_map' : {\n",
    "    '.': np.nan,\n",
    "    '↑': 'increasing_on_track',\n",
    "    '➚': 'increasing_moderately',\n",
    "    '→': 'stagnant',\n",
    "    '↓': 'decreasing'\n",
    "  },\n",
    "\n",
    "  'achievement_map' : {\n",
    "    'green': 'goal_achievement',\n",
    "    'yellow': 'challenges_remain',\n",
    "    'orange': 'significant_challenges',\n",
    "    'red': 'major_challenges'\n",
    "  }\n",
    "}"
   ]
  },
  {
   "cell_type": "code",
   "execution_count": null,
   "metadata": {},
   "outputs": [],
   "source": [
    "with open(f'../../data/aux/sdg_index_mappings.json', 'w') as f:\n",
    "    json.dump(maps,f)"
   ]
  },
  {
   "cell_type": "code",
   "execution_count": null,
   "metadata": {},
   "outputs": [],
   "source": [
    "with open(f'../../data/aux/sdg_index_mappings.json', 'r') as f:\n",
    "#     parse_opts = f.read().decode(\"UTF-8\")\n",
    "    parse_opts = json.load(f)\n"
   ]
  },
  {
   "cell_type": "code",
   "execution_count": null,
   "metadata": {},
   "outputs": [],
   "source": [
    "parse_opts['trend_map']"
   ]
  },
  {
   "cell_type": "code",
   "execution_count": null,
   "metadata": {},
   "outputs": [],
   "source": [
    "trend_map = {\n",
    "    '.': np.nan,\n",
    "    '↑': 'increasing_on_track',\n",
    "    '➚': 'increasing_moderately',\n",
    "    '→': 'stagnant',\n",
    "    '↓': 'decreasing'\n",
    "}\n",
    "\n",
    "achievement_map = {\n",
    "    'green': 'goal_achievement',\n",
    "    'yellow': 'challenges_remain',\n",
    "    'orange': 'significant_challenges',\n",
    "    'red': 'major_challenges'\n",
    "}\n"
   ]
  },
  {
   "cell_type": "code",
   "execution_count": null,
   "metadata": {},
   "outputs": [],
   "source": [
    "sdg_index_19_df = sdg_index_19.drop([0]).reset_index(drop=True)"
   ]
  },
  {
   "cell_type": "code",
   "execution_count": null,
   "metadata": {},
   "outputs": [],
   "source": [
    "sdg_index_19_df.head()"
   ]
  },
  {
   "cell_type": "code",
   "execution_count": null,
   "metadata": {},
   "outputs": [],
   "source": [
    "trend_columns = [i for i in sdg_index_19_df.columns if 'Trend' in i]\n",
    "dashboard_columns = [i for i in sdg_index_19_df.columns if (('Dashboard' in i) and ('Goal' in i))]"
   ]
  },
  {
   "cell_type": "code",
   "execution_count": null,
   "metadata": {},
   "outputs": [],
   "source": [
    "for j in trend_columns:\n",
    "    sdg_index_19_df[j] = sdg_index_19_df[j].map(trend_map)"
   ]
  },
  {
   "cell_type": "code",
   "execution_count": null,
   "metadata": {},
   "outputs": [],
   "source": [
    "for j in dashboard_columns:\n",
    "    sdg_index_19_df[j] = sdg_index_19_df[j].map(achievement_map)"
   ]
  },
  {
   "cell_type": "code",
   "execution_count": null,
   "metadata": {},
   "outputs": [],
   "source": [
    "sdg_index_19_df[dashboard_columns]#.map(trend_map)"
   ]
  },
  {
   "cell_type": "code",
   "execution_count": null,
   "metadata": {},
   "outputs": [],
   "source": []
  }
 ],
 "metadata": {
  "language_info": {
   "name": "python",
   "pygments_lexer": "ipython3"
  }
 },
 "nbformat": 4,
 "nbformat_minor": 4
}
