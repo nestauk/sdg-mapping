{
 "cells": [
  {
   "cell_type": "markdown",
   "metadata": {},
   "source": [
    "# CORDIS SDG Analysis"
   ]
  },
  {
   "cell_type": "markdown",
   "metadata": {},
   "source": [
    "In this notebook we perform preliminary analysis to answer the hypothesis: \n",
    "\n",
    "_There is a positive link between the R&I funding and national performance on the SDG index._\n",
    "\n",
    "We investigate the relationship between research specialisation in the H2020 programme and the 2019 SDG Index scores for goals 3, 6, 7 and 11."
   ]
  },
  {
   "cell_type": "markdown",
   "metadata": {},
   "source": [
    "## Preamble"
   ]
  },
  {
   "cell_type": "code",
   "execution_count": null,
   "metadata": {},
   "outputs": [],
   "source": [
    "%run ../notebook_preamble.ipy\n",
    "\n",
    "from sdg_mapping.cordis import load_cordis_projects, load_cordis_project_sdgs\n",
    "from sdg_mapping.cordis.cordis_utils import FRAMEWORK_PROGRAMMES\n",
    "from sdg_mapping.utils.sdg_utils import sdg_hex_color_codes, sdg_names\n",
    "from sdg_mapping.sdg_index.sdg_index_utils import load_sdg_index\n",
    "\n",
    "import os\n",
    "from itertools import chain\n",
    "from collections import Counter\n",
    "\n",
    "import seaborn as sns"
   ]
  },
  {
   "cell_type": "code",
   "execution_count": null,
   "metadata": {},
   "outputs": [],
   "source": [
    "fig_dir = os.path.join(project_dir, 'reports', 'analysis_cordis_sdg_index')"
   ]
  },
  {
   "cell_type": "code",
   "execution_count": null,
   "metadata": {},
   "outputs": [],
   "source": [
    "project_h2020_df = load_cordis_projects('h2020').set_index('rcn')\n",
    "project_sdgs_h2020_df = load_cordis_project_sdgs('h2020', 'label').set_index('rcn')\n",
    "\n",
    "sdg_index_df = load_sdg_index(2019, index_type='report')\n",
    "\n",
    "project_sdgs_h2020_df[0] = 0\n",
    "project_sdgs_h2020_df[0][project_sdgs_h2020_df.sum(axis=1) == 0] = 1\n",
    "\n",
    "sdg_keys = [3, 6, 7, 11]\n",
    "sdg_index_score_keys = ['goal_{}_score'.format(g) for g in sdg_keys]"
   ]
  },
  {
   "cell_type": "markdown",
   "metadata": {},
   "source": [
    "## SDG Index Scores"
   ]
  },
  {
   "cell_type": "code",
   "execution_count": null,
   "metadata": {},
   "outputs": [],
   "source": [
    "fig, axs = plt.subplots(ncols=4, figsize=(15, 3))\n",
    "\n",
    "for ax, col, g in zip(axs, sdg_index_score_keys, sdg_keys):\n",
    "    hist_opts = {\n",
    "                 'bins': 20,\n",
    "                 'color': sdg_hex_color_codes()[g],\n",
    "                 'ax': ax}\n",
    "    sdg_index_df[col].plot.hist(**hist_opts)\n",
    "    ax.set_xlim(0, 100)\n",
    "    ax.set_xlabel(f'SDG Index Score')\n",
    "    ax.set_title(f'SDG {g}')\n",
    "    \n",
    "plt.tight_layout()\n",
    "plt.savefig(f'{fig_dir}/sdg_index_score_hist.png', dpi=300);"
   ]
  },
  {
   "cell_type": "markdown",
   "metadata": {},
   "source": [
    "- The distributions of the SDG Index scores for each goal are very different. In some cases, the distribution is very broad, whereas for others (e.g. Goal 7) the scores are highly concentrated.\n",
    "- This highlights that the nature of what drives progress in each of these goals is different. This tallies with what we have already seen, which is that the relationship between level of research and performance on the goals is very different.\n",
    "- The index scores for each SDG are in fact an average of multiple scores that correspond to individual SDG targets and indicators.\n"
   ]
  },
  {
   "cell_type": "markdown",
   "metadata": {},
   "source": [
    "## Mapping Country Codes"
   ]
  },
  {
   "cell_type": "code",
   "execution_count": null,
   "metadata": {},
   "outputs": [],
   "source": [
    "def replace_coordinator_eu_codes(x):\n",
    "    d = {'EL': 'GR', 'UK': 'GB'}\n",
    "    if x in d:\n",
    "        return d[x]\n",
    "    else:\n",
    "        return x\n",
    "\n",
    "def fillna_list(x):\n",
    "    if type(x) == list:\n",
    "        return x\n",
    "    elif pd.isnull(x):\n",
    "        return []\n",
    "    \n",
    "def replace_participant_eu_codes(x):\n",
    "    d = {'EL': 'GR', 'UK': 'GB'}\n",
    "    new = []\n",
    "    for s in x:\n",
    "        if s in d:\n",
    "            new.append(iso2_to_iso3_map[d[s]])\n",
    "        elif s == 'XK': # Code for Kosovo, which is not in the SDG Index data\n",
    "            continue\n",
    "        else:\n",
    "            new.append(iso2_to_iso3_map[s])\n",
    "    return new"
   ]
  },
  {
   "cell_type": "code",
   "execution_count": null,
   "metadata": {},
   "outputs": [],
   "source": [
    "country_df = pd.read_json(f'{data_path}/raw/countries/countries_restcountries_api.json')\n",
    "iso2_to_iso3_map = {iso2: iso3 for iso2, iso3 in zip(country_df['alpha2Code'], country_df['alpha3Code'])}\n",
    "\n",
    "project_h2020_df['coordinator_country'] = (project_h2020_df['coordinator_country']\n",
    "                                           .apply(lambda x: replace_coordinator_eu_codes(x))\n",
    "                                           .map(iso2_to_iso3_map))\n",
    "project_h2020_df['participant_countries'] = project_h2020_df['participant_countries'].apply(lambda x: fillna_list(x))\n",
    "\n",
    "project_h2020_df['participant_countries'] = (project_h2020_df['participant_countries']\n",
    "                                             .apply(lambda x: replace_participant_eu_codes(x)))"
   ]
  },
  {
   "cell_type": "markdown",
   "metadata": {},
   "source": [
    "### Country Location Quotients"
   ]
  },
  {
   "cell_type": "code",
   "execution_count": null,
   "metadata": {},
   "outputs": [],
   "source": [
    "def generate_all_countries(projects):\n",
    "    \n",
    "    null_participants = pd.isnull(projects['participant_countries']).sum() > 0\n",
    "    if null_participants:\n",
    "        projects['participant_countries'] = (projects['participant_countries']\n",
    "                                             .apply(lambda p: fillna_list(p)))\n",
    "    all_countries = []\n",
    "    for c, p in zip(projects['coordinator_country'], projects['participant_countries']):\n",
    "        if pd.isnull(c):\n",
    "            all_countries.append(p)\n",
    "        else:\n",
    "            all_countries.append([c] + p)\n",
    "    return all_countries\n",
    "\n",
    "def create_quotient(X, binary=False):\n",
    "    \"\"\"Calculate the location quotient\n",
    "\n",
    "    Divides the share of activity in a location by the share of activity in the UK total\n",
    "\n",
    "    Args:\n",
    "        X (pandas.DataFrame): DataFrame where rows are locations, columns are sectors \n",
    "            and values are activity in a given sector at a location.\n",
    "        binary (bool, optional): If True, discretise the data with a cut-off value of 1\n",
    "\n",
    "    Returns:\n",
    "        pandas.DataFrame\n",
    "    \"\"\"\n",
    "    Xm = X.values\n",
    "    X = pd.DataFrame((Xm/Xm.sum(1)[:, np.newaxis])/(Xm.sum(0)/Xm.sum()),\n",
    "            index=X.index, columns=X.columns)\n",
    "\n",
    "    return (X > 1) if binary else X\n",
    "\n",
    "def create_cordis_country_lq(projects, values, country_col, binary=False):\n",
    "    '''create_cordis_country_lq\n",
    "    Calculates the country based location quotient for CORDIS project participants\n",
    "    or coordinators.\n",
    "    \n",
    "    Args:\n",
    "        projects (pd.DataFrame): CORDIS projects dataframe. Should have\n",
    "            project rcn as the index.\n",
    "        country_col (str): Name of `projects` column with countries of interest. \n",
    "        values (pd.DataFrame): A dataframe of values to calculate location quotient. \n",
    "            Should have project rcn as the index.\n",
    "        \n",
    "    Returns:\n",
    "        (pd.DataFrame): CORDIS country based location quotients\n",
    "    '''\n",
    "    countries = projects[country_col].explode()\n",
    "    country_values = pd.merge(countries, values, left_index=True, right_index=True, how='inner')\n",
    "    country_values = country_values.groupby(country_col).sum()\n",
    "    return create_quotient(country_values, binary=binary)\n",
    "\n",
    "def create_cordis_country_sum(projects, values, country_col):\n",
    "    '''create_cordis_country_lq\n",
    "    Calculates the country based location quotient for CORDIS project participants\n",
    "    or coordinators.\n",
    "    \n",
    "    Args:\n",
    "        projects (pd.DataFrame): CORDIS projects dataframe. Should have\n",
    "            project rcn as the index.\n",
    "        country_col (str): Name of `projects` column with countries of interest. \n",
    "        values (pd.DataFrame): A dataframe of values to calculate location quotient. \n",
    "            Should have project rcn as the index.\n",
    "        binary: \n",
    "        \n",
    "    Returns:\n",
    "        (pd.DataFrame): CORDIS country based location quotients\n",
    "    '''\n",
    "    countries = projects[country_col].explode()\n",
    "    country_values = pd.merge(countries, values, left_index=True, right_index=True, how='inner')\n",
    "    return country_values.groupby(country_col).sum()\n",
    "\n",
    "def normalise(df, norm=0):\n",
    "    '''normalise\n",
    "    \n",
    "    Args:\n",
    "        df (pd.DataFrame): A quantitative dataframe.\n",
    "        norm (int): The axis along which to normalise. 0 normalises along columns and \n",
    "            1 normalises along rows.\n",
    "    '''\n",
    "    if norm == 0:\n",
    "        df = df.divide(df.sum(axis=0), axis=1)\n",
    "    elif norm == 1:\n",
    "        df = df.divide(df.sum(axis=1), axis=0)\n",
    "    return df"
   ]
  },
  {
   "cell_type": "code",
   "execution_count": null,
   "metadata": {},
   "outputs": [],
   "source": [
    "project_h2020_df['all_countries'] = generate_all_countries(project_h2020_df)\n",
    "\n",
    "lq_all = create_cordis_country_lq(project_h2020_df, project_sdgs_h2020_df, 'all_countries')\n",
    "lq_coord = create_cordis_country_lq(project_h2020_df, project_sdgs_h2020_df, 'coordinator_country')\n",
    "lq_part = create_cordis_country_lq(project_h2020_df, project_sdgs_h2020_df, 'participant_countries')"
   ]
  },
  {
   "cell_type": "markdown",
   "metadata": {},
   "source": [
    "## Activity LQ and SDG Score"
   ]
  },
  {
   "cell_type": "markdown",
   "metadata": {},
   "source": [
    "### All Countries"
   ]
  },
  {
   "cell_type": "code",
   "execution_count": null,
   "metadata": {},
   "outputs": [],
   "source": [
    "n_all = project_h2020_df['all_countries'].explode().value_counts().shape[0]\n",
    "\n",
    "print(f'{n_all} countries have coordinated or participated in a project')"
   ]
  },
  {
   "cell_type": "code",
   "execution_count": null,
   "metadata": {},
   "outputs": [],
   "source": [
    "fig, ax = plt.subplots()\n",
    "\n",
    "hist_opts = {'bins': 100, \n",
    "             'cumulative': True, \n",
    "             'histtype': 'step', \n",
    "             'density': 'normed', \n",
    "             'linewidth': 2,\n",
    "             'ax': ax\n",
    "            }\n",
    "c = project_h2020_df['all_countries'].explode().value_counts()\n",
    "c.plot.hist(**hist_opts)\n",
    "ax.set_xlim(c.min(), c.max())\n",
    "ax.set_xlabel('Number of Projects')\n",
    "ax.set_ylabel('Normalised Cumulative Frequency')\n",
    "plt.tight_layout()\n",
    "\n",
    "plt.savefig(f'{fig_dir}/cordis_country_coord_part_count_hist.png', dpi=300);"
   ]
  },
  {
   "cell_type": "markdown",
   "metadata": {},
   "source": [
    "- 151 countries have coordinated or participated in a H2020 project.\n",
    "- Normalised cumulative frequency distribution of number of projects that each country is involved in shows that:\n",
    "    - 50% of these countries have been a part of 13 projects or less\n",
    "    - 75% have been a part of 103 projects or less\n",
    "- Only the top 12% of countries have participated in 1,000 projects or more.\n"
   ]
  },
  {
   "cell_type": "code",
   "execution_count": null,
   "metadata": {},
   "outputs": [],
   "source": [
    "min_project_count = 100\n",
    "\n",
    "def filter_countries_by_project_count(projects, country_col, min_count):\n",
    "    c = projects[country_col].explode().value_counts()\n",
    "    c = c[c >= min_count]\n",
    "    return c.index.values\n",
    "\n",
    "top_countries = filter_countries_by_project_count(project_h2020_df, 'all_countries', min_project_count)"
   ]
  },
  {
   "cell_type": "code",
   "execution_count": null,
   "metadata": {},
   "outputs": [],
   "source": [
    "sdg_scores = (sdg_index_df\n",
    "              .set_index('id')[sdg_index_score_keys]\n",
    "              .reindex(top_countries)\n",
    "              .dropna(how='all'))\n",
    "lq_sdg_score_by_country = (lq_all[sdg_keys]\n",
    "                           .reindex(top_countries)\n",
    "                           .merge(sdg_scores, left_index=True, right_index=True, how='inner'))"
   ]
  },
  {
   "cell_type": "code",
   "execution_count": null,
   "metadata": {},
   "outputs": [],
   "source": [
    "fig, axs = plt.subplots(ncols=4, figsize=(15, 3))\n",
    "\n",
    "for g, s, ax in zip(sdg_keys, sdg_index_score_keys, axs):\n",
    "    ax.scatter(lq_sdg_score_by_country[g], lq_sdg_score_by_country[s], color=sdg_hex_color_codes()[g], alpha=0.7)\n",
    "    ax.set_title(sdg_names()[g])\n",
    "    ax.set_xlabel('LQ')\n",
    "    ax.set_ylabel('Score')\n",
    "    ax.set_xlim(0, 2)\n",
    "    \n",
    "plt.tight_layout()\n",
    "plt.savefig(f'{fig_dir}/lq_sdg_index_coord_part_truncated_scatter.png', dpi=300);"
   ]
  },
  {
   "cell_type": "markdown",
   "metadata": {},
   "source": [
    "- Calculated the relative research specialisation in each SDG topic based on the number of projects  for each country. Subset to countries with ≥100 projects. This left 38 European and other high income countries.\n",
    "- Strong but small +ve correlation between LQ and Goal 3. Weak and -ve correlation between LQ and Goals 6 and 11. Weak or non-existent correlation with Goal 7. (x axes are limited to exclude LQ outliers)\n",
    "- Interesting to think about why this may be:\n",
    "    - Much health research is carried out in medical and public healthcare settings so perhaps greater specialisation in Goal 3 indicates a greater capacity for health and medical research in general\n",
    "    - Is clean water generally more of a problem in industrialised nations and if so is the higher level of research specialisation driven by necessity?\n",
    "    \n",
    "We see more or less the same things when looking at only the coordinators and only the participants below.\n"
   ]
  },
  {
   "cell_type": "markdown",
   "metadata": {},
   "source": [
    "### Coordinator Countries"
   ]
  },
  {
   "cell_type": "code",
   "execution_count": null,
   "metadata": {},
   "outputs": [],
   "source": [
    "n_coord = project_h2020_df['coordinator_country'].explode().value_counts().shape[0]\n",
    "\n",
    "print(f'{n_coord} countries have coordinated a project')"
   ]
  },
  {
   "cell_type": "code",
   "execution_count": null,
   "metadata": {},
   "outputs": [],
   "source": [
    "fig, ax = plt.subplots()\n",
    "\n",
    "hist_opts = {'bins': 100, \n",
    "             'cumulative': True, \n",
    "             'histtype': 'step', \n",
    "             'density': 'normed', \n",
    "             'linewidth': 2,\n",
    "             'ax': ax\n",
    "            }\n",
    "c = project_h2020_df['coordinator_country'].explode().value_counts()\n",
    "c.plot.hist(**hist_opts)\n",
    "ax.set_xlim(c.min(), c.max())\n",
    "plt.tight_layout()"
   ]
  },
  {
   "cell_type": "code",
   "execution_count": null,
   "metadata": {},
   "outputs": [],
   "source": [
    "min_project_count = 50\n",
    "\n",
    "top_countries = filter_countries_by_project_count(project_h2020_df, 'coordinator_country', min_project_count)"
   ]
  },
  {
   "cell_type": "code",
   "execution_count": null,
   "metadata": {},
   "outputs": [],
   "source": [
    "sdg_scores = (sdg_index_df\n",
    "              .set_index('id')[sdg_index_score_keys]\n",
    "              .reindex(top_countries)\n",
    "              .dropna(how='all'))\n",
    "lq_sdg_score_by_country = (lq_coord[sdg_keys]\n",
    "                           .reindex(top_countries)\n",
    "                           .merge(sdg_scores, left_index=True, right_index=True, how='inner'))"
   ]
  },
  {
   "cell_type": "code",
   "execution_count": null,
   "metadata": {},
   "outputs": [],
   "source": [
    "fig, axs = plt.subplots(ncols=4, figsize=(15, 3))\n",
    "\n",
    "for g, s, ax in zip(sdg_keys, sdg_index_score_keys, axs):\n",
    "    sns.regplot(\n",
    "        lq_sdg_score_by_country[g],\n",
    "        lq_sdg_score_by_country[s],\n",
    "        color=sdg_hex_color_codes()[g],\n",
    "#         alpha=0.7\n",
    "        ax=ax\n",
    "               )\n",
    "    ax.set_title(sdg_names()[g])\n",
    "    ax.set_xlabel('LQ')\n",
    "    ax.set_ylabel('Score')\n",
    "#     ax.set_xlim(0, 3)\n",
    "    \n",
    "plt.tight_layout()"
   ]
  },
  {
   "cell_type": "markdown",
   "metadata": {},
   "source": [
    "### Participant Countries"
   ]
  },
  {
   "cell_type": "code",
   "execution_count": null,
   "metadata": {},
   "outputs": [],
   "source": [
    "n_part = project_h2020_df['participant_countries'].explode().value_counts().shape[0]\n",
    "\n",
    "print(f'{n_part} countries have participated in a project')"
   ]
  },
  {
   "cell_type": "code",
   "execution_count": null,
   "metadata": {},
   "outputs": [],
   "source": [
    "fig, ax = plt.subplots()\n",
    "\n",
    "hist_opts = {'bins': 100, \n",
    "             'cumulative': True, \n",
    "             'histtype': 'step', \n",
    "             'density': 'normed', \n",
    "             'linewidth': 2,\n",
    "             'ax': ax\n",
    "            }\n",
    "c = project_h2020_df['participant_countries'].explode().value_counts()\n",
    "c.plot.hist(**hist_opts)\n",
    "ax.set_xlim(c.min(), c.max())\n",
    "plt.tight_layout()"
   ]
  },
  {
   "cell_type": "code",
   "execution_count": null,
   "metadata": {},
   "outputs": [],
   "source": [
    "min_project_count = 100\n",
    "\n",
    "top_countries = filter_countries_by_project_count(project_h2020_df, 'participant_countries', min_project_count)"
   ]
  },
  {
   "cell_type": "code",
   "execution_count": null,
   "metadata": {},
   "outputs": [],
   "source": [
    "sdg_scores = (sdg_index_df\n",
    "              .set_index('id')[sdg_index_score_keys]\n",
    "              .reindex(top_countries)\n",
    "              .dropna(how='all'))\n",
    "lq_sdg_score_by_country = (lq_part[sdg_keys]\n",
    "                           .reindex(top_countries)\n",
    "                           .merge(sdg_scores, left_index=True, right_index=True, how='inner'))"
   ]
  },
  {
   "cell_type": "code",
   "execution_count": null,
   "metadata": {},
   "outputs": [],
   "source": [
    "fig, axs = plt.subplots(ncols=4, figsize=(15, 3))\n",
    "\n",
    "for g, s, ax in zip(sdg_keys, sdg_index_score_keys, axs):\n",
    "    sns.regplot(\n",
    "        lq_sdg_score_by_country[g],\n",
    "        lq_sdg_score_by_country[s],\n",
    "        color=sdg_hex_color_codes()[g],\n",
    "        ax=ax\n",
    "               )\n",
    "    ax.set_title(sdg_names()[g])\n",
    "    ax.set_xlabel('LQ')\n",
    "    ax.set_ylabel('Score')\n",
    "    \n",
    "plt.tight_layout()"
   ]
  },
  {
   "cell_type": "markdown",
   "metadata": {},
   "source": [
    "## Funding LQ and SDG Score"
   ]
  },
  {
   "cell_type": "code",
   "execution_count": null,
   "metadata": {},
   "outputs": [],
   "source": [
    "xml_parsed_dir = f'{data_path}/processed/cordis/h2020/h2020_orgs_xml'\n",
    "\n",
    "dfs = []\n",
    "for file in os.listdir(xml_parsed_dir):\n",
    "    dfs.append(pd.read_json(os.path.join(xml_parsed_dir, file)))\n",
    "    \n",
    "orgs_h2020_df = pd.concat(dfs, sort=True)\n",
    "\n",
    "del dfs\n",
    "\n",
    "orgs_h2020_df['iso3_code'] = orgs_h2020_df['iso2_code'].map(iso2_to_iso3_map)\n",
    "orgs_h2020_df = orgs_h2020_df.set_index('rcn')"
   ]
  },
  {
   "cell_type": "code",
   "execution_count": null,
   "metadata": {},
   "outputs": [],
   "source": [
    "sdg_orgs_h2020 = project_sdgs_h2020_df.merge(orgs_h2020_df, left_index=True, right_index=True, how='left')"
   ]
  },
  {
   "cell_type": "code",
   "execution_count": null,
   "metadata": {},
   "outputs": [],
   "source": [
    "sdg_project_funds = sdg_orgs_h2020[sdg_keys + [0]].mul(sdg_orgs_h2020['ecContribution'], axis=0)\n",
    "sdg_project_funds = sdg_project_funds.merge(orgs_h2020_df['iso3_code'], left_index=True, right_index=True, how='left')\n",
    "sdg_country_funds = sdg_project_funds.groupby('iso3_code').sum()"
   ]
  },
  {
   "cell_type": "code",
   "execution_count": null,
   "metadata": {},
   "outputs": [],
   "source": [
    "sdg_scores = (sdg_index_df\n",
    "              .set_index('id')[sdg_index_score_keys])\n",
    "\n",
    "fund_lq_all = (create_quotient(sdg_country_funds)\n",
    "               .dropna()[sdg_keys]\n",
    "               .reindex(top_countries)\n",
    "               .merge(sdg_scores, left_index=True, right_index=True, how='inner'))"
   ]
  },
  {
   "cell_type": "code",
   "execution_count": null,
   "metadata": {},
   "outputs": [],
   "source": [
    "fig, axs = plt.subplots(ncols=4, figsize=(15, 3))\n",
    "\n",
    "for g, s, ax in zip(sdg_keys, sdg_index_score_keys, axs):\n",
    "#     sns.regplot(fund_lq_all[g], fund_lq_all[s], color=sdg_hex_color_codes()[g], ax=ax)\n",
    "    ax.scatter(fund_lq_all[g], fund_lq_all[s], color=sdg_hex_color_codes()[g], alpha=0.7)\n",
    "    ax.set_title(sdg_names()[g])\n",
    "    ax.set_xlabel('Funding LQ')\n",
    "    ax.set_ylabel('Score')\n",
    "#     ax.set_xlim(0, 3)\n",
    "    \n",
    "plt.tight_layout()\n",
    "plt.savefig(f'{fig_dir}/funding_lq_sdg_index_coord_part_scatter.png', dpi=300);"
   ]
  },
  {
   "cell_type": "markdown",
   "metadata": {},
   "source": [
    "Basing specialisation on the amount of funding recieved instead of the number of projects:\n",
    "\n",
    "- Broadly the same trends are seen between LQ calculated based on the number of projects and calculated based on the amount of funding.\n",
    "- We see the same trends regardless of whether we only take into account project coordinators or participants.\n"
   ]
  },
  {
   "cell_type": "markdown",
   "metadata": {},
   "source": [
    "## Share of Funding"
   ]
  },
  {
   "cell_type": "code",
   "execution_count": null,
   "metadata": {},
   "outputs": [],
   "source": [
    "sdg_funding_share = sdg_country_funds.divide(sdg_country_funds.sum(axis=1), axis=0)[sdg_keys].dropna()"
   ]
  },
  {
   "cell_type": "code",
   "execution_count": null,
   "metadata": {},
   "outputs": [],
   "source": [
    "min_project_count = 100\n",
    "top_countries = filter_countries_by_project_count(project_h2020_df, 'all_countries', min_project_count)"
   ]
  },
  {
   "cell_type": "code",
   "execution_count": null,
   "metadata": {},
   "outputs": [],
   "source": [
    "fund_share_all = (\n",
    "    sdg_funding_share\n",
    "    .reindex(top_countries)\n",
    "    .merge(sdg_scores, left_index=True, right_index=True, how='inner'))"
   ]
  },
  {
   "cell_type": "code",
   "execution_count": null,
   "metadata": {},
   "outputs": [],
   "source": [
    "fig, axs = plt.subplots(ncols=4, figsize=(15, 3))\n",
    "\n",
    "for g, s, ax in zip(sdg_keys, sdg_index_score_keys, axs):\n",
    "#     sns.regplot(fund_lq_all[g], fund_lq_all[s], color=sdg_hex_color_codes()[g], ax=ax)\n",
    "    ax.scatter(fund_share_all[g] * 100, fund_share_all[s], color=sdg_hex_color_codes()[g], alpha=0.7)\n",
    "    ax.set_title(sdg_names()[g])\n",
    "    ax.set_xlabel('SDG Funding Share (%)')\n",
    "    ax.set_ylabel('Score')\n",
    "#     ax.set_xlim(0, 3)\n",
    "    \n",
    "plt.tight_layout()\n",
    "plt.savefig(f'{fig_dir}/fund_share_vs_sdg_index_coord_part_scatter.png', dpi=300);"
   ]
  },
  {
   "cell_type": "markdown",
   "metadata": {},
   "source": [
    "And we see the same again if we calculate the share of funding given to research on an SDG in each country."
   ]
  },
  {
   "cell_type": "markdown",
   "metadata": {},
   "source": [
    "## Distribution of Score Breakdowns"
   ]
  },
  {
   "cell_type": "code",
   "execution_count": null,
   "metadata": {},
   "outputs": [],
   "source": [
    "fig, axs = plt.subplots(ncols=4, figsize=(15, 3), sharey=True)\n",
    "\n",
    "for g, ax in zip(sdg_keys, axs):\n",
    "    cols = [c for c in sdg_index_df.columns if (f'sdg{g}' in c) & ('normalized' in c)]\n",
    "    names = [c.split('_')[-1] for c in cols]\n",
    "    sns.stripplot(data=sdg_index_df[cols].dropna(), ax=ax, color=sdg_hex_color_codes()[g], alpha=0.2)\n",
    "    ax.set_xticklabels(names, rotation=45, ha='right')\n",
    "    ax.set_ylabel('Normalised SDG Index Score')\n",
    "    ax.set_title(sdg_names()[g])\n",
    "    \n",
    "plt.tight_layout()\n",
    "plt.savefig(f'{fig_dir}/sdg_index_breakdown_strip.png', dpi=300);"
   ]
  },
  {
   "cell_type": "markdown",
   "metadata": {},
   "source": [
    "We see that there is a great variety between the distributions of individual indicators within each aggregate SDG indicator. This suggests that we should be looking at the relationships between levels of SDG research and individual target areas."
   ]
  },
  {
   "cell_type": "code",
   "execution_count": null,
   "metadata": {},
   "outputs": [],
   "source": [
    "fig, axs = plt.subplots(ncols=4, figsize=(15, 3))\n",
    "\n",
    "for g, ax in zip(sdg_keys, axs):\n",
    "    cols = [c for c in sdg_index_df.columns if (f'sdg{g}' in c) & ('normalized' in c)]\n",
    "    names = [c.split('_')[-1] for c in cols]\n",
    "    sns.heatmap(data=sdg_index_df[cols].corr(), ax=ax)\n",
    "    ax.set_xticklabels(names, rotation=45, ha='right')\n",
    "    ax.set_yticklabels(names)\n",
    "    ax.set_title(sdg_names()[g])\n",
    "    \n",
    "plt.tight_layout()\n",
    "plt.savefig(f'{fig_dir}/sdg_index_corr_heatmap.png', dpi=300);"
   ]
  },
  {
   "cell_type": "markdown",
   "metadata": {},
   "source": [
    "Furthermore, some of the sub-indicators are not correlated showing that they may not necessarily progress by the same mechanisms or at the same rate, or that they might in fact work in contradiction."
   ]
  },
  {
   "cell_type": "markdown",
   "metadata": {},
   "source": [
    "## LQ and SDG Indicators"
   ]
  },
  {
   "cell_type": "markdown",
   "metadata": {},
   "source": [
    "Here we look at the individual indicators contained within each SDG Index score for the four goals."
   ]
  },
  {
   "cell_type": "markdown",
   "metadata": {},
   "source": [
    "### Goal 3"
   ]
  },
  {
   "cell_type": "code",
   "execution_count": null,
   "metadata": {},
   "outputs": [],
   "source": [
    "goal_3_indicator_cols = [c for c in sdg_index_df.columns if (f'sdg3' in c) & ('normalized' in c)]\n",
    "goal_3_indicator_names = [c.split('_')[-1] for c in goal_3_indicator_cols]"
   ]
  },
  {
   "cell_type": "code",
   "execution_count": null,
   "metadata": {},
   "outputs": [],
   "source": [
    "goal_3_fund_lq_indicators = pd.merge(\n",
    "                                 fund_lq_all[3],\n",
    "                                 sdg_index_df.set_index('id')[goal_3_indicator_cols],\n",
    "                                 left_index=True,\n",
    "                                 right_index=True,\n",
    "                                 how='left'\n",
    "                             )"
   ]
  },
  {
   "cell_type": "code",
   "execution_count": null,
   "metadata": {},
   "outputs": [],
   "source": [
    "fig, axs = plt.subplots(nrows=4, ncols=4, figsize=(14, 10), sharex=True, sharey=True)\n",
    "\n",
    "for col, name, ax in zip(goal_3_indicator_cols, goal_3_indicator_names, axs.ravel()):\n",
    "    ax.scatter(\n",
    "        goal_3_fund_lq_indicators[3], \n",
    "        goal_3_fund_lq_indicators[col], \n",
    "        color=sdg_hex_color_codes()[3],\n",
    "        alpha=0.7\n",
    "    )\n",
    "    ax.set_title(name)\n",
    "    ax.set_xlabel('Research Funding LQ')\n",
    "    ax.set_ylabel('Normalised Indicator Score')\n",
    "\n",
    "plt.tight_layout()\n",
    "plt.savefig(f'{fig_dir}/funding_lq_sdg_indicators_sdg3_coord_part_scatter.png', dpi=300);"
   ]
  },
  {
   "cell_type": "markdown",
   "metadata": {},
   "source": [
    "### Goal 6"
   ]
  },
  {
   "cell_type": "code",
   "execution_count": null,
   "metadata": {},
   "outputs": [],
   "source": [
    "goal_6_indicator_cols = [c for c in sdg_index_df.columns if (f'sdg6' in c) & ('normalized' in c)]\n",
    "goal_6_indicator_names = [c.split('_')[-1] for c in goal_6_indicator_cols]"
   ]
  },
  {
   "cell_type": "code",
   "execution_count": null,
   "metadata": {},
   "outputs": [],
   "source": [
    "goal_6_fund_lq_indicators = pd.merge(\n",
    "                                 fund_lq_all[6],\n",
    "                                 sdg_index_df.set_index('id')[goal_6_indicator_cols],\n",
    "                                 left_index=True,\n",
    "                                 right_index=True,\n",
    "                                 how='left'\n",
    "                             )"
   ]
  },
  {
   "cell_type": "code",
   "execution_count": null,
   "metadata": {},
   "outputs": [],
   "source": [
    "fig, axs = plt.subplots(nrows=2, ncols=3, figsize=(11, 5.5), sharex=True, \n",
    "                        sharey=True\n",
    "                       )\n",
    "\n",
    "for col, name, ax in zip(goal_6_indicator_cols, goal_6_indicator_names, axs.ravel()):\n",
    "    ax.scatter(\n",
    "        goal_6_fund_lq_indicators[6], \n",
    "        goal_6_fund_lq_indicators[col], \n",
    "        color=sdg_hex_color_codes()[6],\n",
    "        alpha=0.7\n",
    "    )\n",
    "    ax.set_title(name)\n",
    "    ax.set_xlabel('Research Funding LQ')\n",
    "    ax.set_ylabel('Normalised Indicator Score')\n",
    "\n",
    "plt.tight_layout()\n",
    "plt.savefig(f'{fig_dir}/funding_lq_sdg_indicators_sdg6_coord_part_scatter.png', dpi=300);"
   ]
  },
  {
   "cell_type": "markdown",
   "metadata": {},
   "source": [
    "### Goal 7"
   ]
  },
  {
   "cell_type": "code",
   "execution_count": null,
   "metadata": {},
   "outputs": [],
   "source": [
    "goal_7_indicator_cols = [c for c in sdg_index_df.columns if (f'sdg7' in c) & ('normalized' in c)]\n",
    "goal_7_indicator_names = [c.split('_')[-1] for c in goal_7_indicator_cols]"
   ]
  },
  {
   "cell_type": "code",
   "execution_count": null,
   "metadata": {},
   "outputs": [],
   "source": [
    "goal_7_fund_lq_indicators = pd.merge(\n",
    "                                 fund_lq_all[7],\n",
    "                                 sdg_index_df.set_index('id')[goal_7_indicator_cols],\n",
    "                                 left_index=True,\n",
    "                                 right_index=True,\n",
    "                                 how='left'\n",
    "                             )"
   ]
  },
  {
   "cell_type": "code",
   "execution_count": null,
   "metadata": {},
   "outputs": [],
   "source": [
    "fig, axs = plt.subplots(nrows=1, ncols=3, figsize=(11, 2.75), sharex=True, \n",
    "                        sharey=True\n",
    "                       )\n",
    "\n",
    "for col, name, ax in zip(goal_7_indicator_cols, goal_7_indicator_names, axs.ravel()):\n",
    "    ax.scatter(\n",
    "        goal_7_fund_lq_indicators[7], \n",
    "        goal_7_fund_lq_indicators[col], \n",
    "        color=sdg_hex_color_codes()[7],\n",
    "        alpha=0.7\n",
    "    )\n",
    "    ax.set_title(name)\n",
    "    ax.set_xlabel('Research Funding LQ')\n",
    "    ax.set_ylabel('Normalised Indicator Score')\n",
    "\n",
    "plt.tight_layout()\n",
    "plt.savefig(f'{fig_dir}/funding_lq_sdg_indicators_sdg7_coord_part_scatter.png', dpi=300);"
   ]
  },
  {
   "cell_type": "markdown",
   "metadata": {},
   "source": [
    "### Goal 11"
   ]
  },
  {
   "cell_type": "code",
   "execution_count": null,
   "metadata": {},
   "outputs": [],
   "source": [
    "goal_11_indicator_cols = [c for c in sdg_index_df.columns if (f'sdg11' in c) & ('normalized' in c)]\n",
    "goal_11_indicator_names = [c.split('_')[-1] for c in goal_11_indicator_cols]\n",
    "\n",
    "goal_11_fund_lq_indicators = pd.merge(\n",
    "                                 fund_lq_all[11],\n",
    "                                 sdg_index_df.set_index('id')[goal_11_indicator_cols],\n",
    "                                 left_index=True,\n",
    "                                 right_index=True,\n",
    "                                 how='left'\n",
    "                             )"
   ]
  },
  {
   "cell_type": "code",
   "execution_count": null,
   "metadata": {},
   "outputs": [],
   "source": [
    "fig, axs = plt.subplots(nrows=1, ncols=3, figsize=(11, 2.75), sharex=True, \n",
    "                        sharey=True\n",
    "                       )\n",
    "\n",
    "for col, name, ax in zip(goal_11_indicator_cols, goal_11_indicator_names, axs.ravel()):\n",
    "    ax.scatter(\n",
    "        goal_11_fund_lq_indicators[11], \n",
    "        goal_11_fund_lq_indicators[col], \n",
    "        color=sdg_hex_color_codes()[11],\n",
    "        alpha=0.7\n",
    "    )\n",
    "    ax.set_title(name)\n",
    "    ax.set_xlabel('Research Funding LQ')\n",
    "    ax.set_ylabel('Normalised Indicator Score')\n",
    "\n",
    "plt.tight_layout()\n",
    "plt.savefig(f'{fig_dir}/funding_lq_sdg_indicators_sdg11_coord_part_scatter.png', dpi=300);"
   ]
  },
  {
   "cell_type": "markdown",
   "metadata": {},
   "source": [
    "## SDG Index Analysis"
   ]
  },
  {
   "cell_type": "markdown",
   "metadata": {},
   "source": [
    "Cluster map of countries based on the correlation of their SDG Index score profiles."
   ]
  },
  {
   "cell_type": "code",
   "execution_count": null,
   "metadata": {},
   "outputs": [],
   "source": [
    "sns.clustermap(sdg_index_df.set_index('id')[['goal_{}_score'.format(g) for g in range(1, 17)]].dropna().T.corr())"
   ]
  },
  {
   "cell_type": "markdown",
   "metadata": {},
   "source": [
    "Pair plot of SDG Index scores showing a wide variety of different relationships between the SDGs in terms of performance. Positive, negative and null correlations of varying degrees of strength!"
   ]
  },
  {
   "cell_type": "code",
   "execution_count": null,
   "metadata": {},
   "outputs": [],
   "source": [
    "sns.pairplot(sdg_index_df[['goal_{}_score'.format(g) for g in range(1, 17)]])"
   ]
  },
  {
   "cell_type": "markdown",
   "metadata": {},
   "source": [
    "### Collecting Organisation Information"
   ]
  },
  {
   "cell_type": "code",
   "execution_count": null,
   "metadata": {},
   "outputs": [],
   "source": [
    "from bs4 import BeautifulSoup\n",
    "from xml.etree import ElementTree\n",
    "import os"
   ]
  },
  {
   "cell_type": "code",
   "execution_count": null,
   "metadata": {},
   "outputs": [],
   "source": [
    "xml_project_dir = f'{data_path}/raw/cordis/h2020/h2020_projects_xml/'\n",
    "\n",
    "test_file = os.path.join(xml_project_dir, 'project-rcn-193159_en.xml')"
   ]
  },
  {
   "cell_type": "code",
   "execution_count": null,
   "metadata": {},
   "outputs": [],
   "source": [
    "def get_text(element, tag):\n",
    "    d = element.find(tag)\n",
    "    if d is not None:\n",
    "        return d.text\n",
    "    else:\n",
    "        return None\n",
    "\n",
    "def parse_xml_project(project_soup):\n",
    "    orgs = soup.find_all('organization')\n",
    "    orgs_parsed = []\n",
    "    if len(orgs) > 0:\n",
    "        for org in orgs:\n",
    "            attrs = org.attrs\n",
    "            attrs['org_id'] = get_text(org, 'id')\n",
    "            attrs['org_rcn'] = get_text(org, 'rcn')\n",
    "            attrs['iso2_code'] = get_text(org, 'isoCode')\n",
    "            attrs['eu_code'] = get_text(org, 'euCode')\n",
    "            attrs['legal_name'] = get_text(org, 'legalName')\n",
    "            \n",
    "            latlon = get_text(org, 'geolocation')\n",
    "            if latlon is not None:\n",
    "                latlon = latlon.split(',')\n",
    "                lat = latlon[0]\n",
    "                lon = latlon[1]\n",
    "            else:\n",
    "                lat = None\n",
    "                lon = None\n",
    "            attrs['lat'] = lat\n",
    "            attrs['lon'] = lon\n",
    "            orgs_parsed.append(attrs)\n",
    "    else:\n",
    "        orgs_parsed.append({})\n",
    "    return orgs_parsed"
   ]
  },
  {
   "cell_type": "code",
   "execution_count": null,
   "metadata": {},
   "outputs": [],
   "source": [
    "def chunks(lst, n):\n",
    "    \"\"\"Yield successive n-sized chunks from lst.\"\"\"\n",
    "    for i in range(0, len(lst), n):\n",
    "        yield lst[i:i + n]"
   ]
  },
  {
   "cell_type": "code",
   "execution_count": null,
   "metadata": {},
   "outputs": [],
   "source": [
    "import json"
   ]
  },
  {
   "cell_type": "code",
   "execution_count": null,
   "metadata": {},
   "outputs": [],
   "source": [
    "files = os.listdir(xml_project_dir)\n",
    "for i, chunk in enumerate(chunks(files, 500)):\n",
    "    orgs = []\n",
    "    for file in chunk:\n",
    "        file = os.path.join(xml_project_dir, file)\n",
    "        with open(file, 'r') as f:\n",
    "            soup = BeautifulSoup(f.read(), features='xml')\n",
    "        parsed = parse_xml_project(soup)\n",
    "        \n",
    "        rcn = file.split('-')[-1].split('_')[0]\n",
    "        for p in parsed:\n",
    "            p['rcn'] = rcn\n",
    "\n",
    "        orgs.extend(parsed)\n",
    "    with open(f'{data_path}/processed/cordis/h2020/h2020_orgs_xml/orgs_parsed_{str(i).zfill(2)}.json', 'w') as f:\n",
    "        json.dump(orgs, f)"
   ]
  },
  {
   "cell_type": "code",
   "execution_count": null,
   "metadata": {},
   "outputs": [],
   "source": [
    "xml_org_df = pd.read_json(f'{data_path}/processed/cordis/h2020/h2020_orgs_xml/orgs_parsed_01.json')\n",
    "xml_org_df.head()"
   ]
  },
  {
   "cell_type": "code",
   "execution_count": null,
   "metadata": {},
   "outputs": [],
   "source": []
  }
 ],
 "metadata": {
  "language_info": {
   "name": "python",
   "pygments_lexer": "ipython3"
  }
 },
 "nbformat": 4,
 "nbformat_minor": 4
}
