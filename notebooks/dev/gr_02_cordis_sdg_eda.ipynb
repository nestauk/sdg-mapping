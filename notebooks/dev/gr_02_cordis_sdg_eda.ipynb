{
 "cells": [
  {
   "cell_type": "markdown",
   "metadata": {},
   "source": [
    "# CORDIS SDG EDA"
   ]
  },
  {
   "cell_type": "markdown",
   "metadata": {},
   "source": [
    "Initial high level analysis of CORDIS projects labelled with SDGs.\n",
    "\n",
    "Quality\n",
    "- [x] Percentage of projects that had classification successfully performed\n",
    "\n",
    "EDA\n",
    "- [x] Change in SDG activity over time\n",
    "- [x] Change in funding for SDGs over time\n",
    "- [x] SDG activity and specialisation by coordinator country\n",
    "- [x] SDG activity and specialisation by participant countries\n",
    "- [x] SDG activity and specialisation by country involvement\n",
    "\n",
    "Extra Ideas\n",
    "- Diversity index of countries by SDG\n",
    "- Diversity index of SDGs by country\n",
    "- Distance between country's SDG profile in different FPs\n",
    "- Difference between country's participation and coordinator profile"
   ]
  },
  {
   "cell_type": "code",
   "execution_count": null,
   "metadata": {},
   "outputs": [],
   "source": [
    "%run ../notebook_preamble.ipy"
   ]
  },
  {
   "cell_type": "code",
   "execution_count": null,
   "metadata": {},
   "outputs": [],
   "source": [
    "from sdg_mapping.cordis import load_cordis_projects, load_cordis_project_sdgs\n",
    "from sdg_mapping.cordis.cordis_utils import FRAMEWORK_PROGRAMMES\n",
    "from sdg_mapping.utils.sdg_utils import sdg_hex_color_codes, sdg_names\n",
    "\n",
    "import seaborn as sns"
   ]
  },
  {
   "cell_type": "code",
   "execution_count": null,
   "metadata": {},
   "outputs": [],
   "source": [
    "projects = {}\n",
    "project_sdgs = {}\n",
    "\n",
    "for fp in FRAMEWORK_PROGRAMMES:\n",
    "    projects[fp] = load_cordis_projects(fp).set_index('rcn')\n",
    "    project_sdgs[fp] = load_cordis_project_sdgs(fp, 'strict_label').set_index('rcn')"
   ]
  },
  {
   "cell_type": "markdown",
   "metadata": {},
   "source": [
    "## Classification Coverage"
   ]
  },
  {
   "cell_type": "code",
   "execution_count": null,
   "metadata": {},
   "outputs": [],
   "source": [
    "def coverage(projects, sdgs):\n",
    "    c = sdgs.shape[0] / projects.shape[0] * 100\n",
    "    return c\n",
    "\n",
    "for fp in FRAMEWORK_PROGRAMMES:\n",
    "    c = coverage(projects[fp], project_sdgs[fp])\n",
    "    print(f'{c:.2f}% of {fp.upper()} projects were successfully classified')"
   ]
  },
  {
   "cell_type": "code",
   "execution_count": null,
   "metadata": {},
   "outputs": [],
   "source": [
    "fig_dir = f'{project_dir}/reports/eda/figures'"
   ]
  },
  {
   "cell_type": "code",
   "execution_count": null,
   "metadata": {},
   "outputs": [],
   "source": [
    "c = [coverage(projects[fp], project_sdgs[fp]) for fp in FRAMEWORK_PROGRAMMES]\n",
    "\n",
    "fig, ax = plt.subplots()\n",
    "ax.bar([fp.upper() for fp in FRAMEWORK_PROGRAMMES], c)\n",
    "ax.set_ylabel('Classifier Coverage (%)')\n",
    "ax.set_xlabel('Framework Programme')\n",
    "plt.savefig(f'{fig_dir}/classification_coverage_bar.png', dpi=300);"
   ]
  },
  {
   "cell_type": "markdown",
   "metadata": {},
   "source": [
    "## H2020, FP7 and FP6"
   ]
  },
  {
   "cell_type": "markdown",
   "metadata": {},
   "source": [
    "### Aggregate Activity"
   ]
  },
  {
   "cell_type": "code",
   "execution_count": null,
   "metadata": {},
   "outputs": [],
   "source": [
    "def sum_columns(X, norm=False):\n",
    "    '''calculate_aggregate_activity\n",
    "    \n",
    "    Args:\n",
    "        X (pd.DataFrame): DataFrame where columns are counts of categories.\n",
    "        norm (bool): If true, returned result is normalised such that values\n",
    "            add to 1. Default is False.\n",
    "        \n",
    "    Returns:\n",
    "        summed (pd.Series)\n",
    "    '''\n",
    "    activity = X.sum()\n",
    "    if norm:\n",
    "        activity = activity / X.shape[0]\n",
    "    return activity\n",
    "\n",
    "def plot_sdg_activity(sdg_df, ax=ax, norm=False):\n",
    "    '''plot_sdg_activity\n",
    "    '''\n",
    "    activity = sum_columns(sdg_df, norm=norm)  \n",
    "    if norm:\n",
    "        activity = activity * 100\n",
    "\n",
    "    activity.plot.barh(color=sdg_hex_color_codes().values(), ax=ax)\n",
    "    ax.set_yticklabels(sdg_names().values())\n",
    "    ax.invert_yaxis()\n",
    "    \n",
    "    if norm:\n",
    "        ax.set_xlabel('% of Projects')\n",
    "    else:\n",
    "        ax.set_xlabel('Number of Projects')    "
   ]
  },
  {
   "cell_type": "code",
   "execution_count": null,
   "metadata": {},
   "outputs": [],
   "source": [
    "fig, axs = plt.subplots(ncols=3, figsize=(15, 4), sharey=True)\n",
    "\n",
    "for ax, fp in zip(axs, FRAMEWORK_PROGRAMMES[-3:]):\n",
    "    plot_sdg_activity(project_sdgs[fp], ax)\n",
    "    ax.set_title(fp.upper())\n",
    "    \n",
    "plt.tight_layout()\n",
    "    \n",
    "plt.savefig(f'{fig_dir}/cordis_sdg_project_count_by_fp_barh.png', dpi=300);"
   ]
  },
  {
   "cell_type": "code",
   "execution_count": null,
   "metadata": {},
   "outputs": [],
   "source": [
    "fig, axs = plt.subplots(ncols=3, figsize=(15, 4), sharey=True)\n",
    "\n",
    "for ax, fp in zip(axs, FRAMEWORK_PROGRAMMES[-3:]):\n",
    "    plot_sdg_activity(project_sdgs[fp], ax, norm=True)\n",
    "    ax.set_title(fp.upper())\n",
    "    \n",
    "plt.tight_layout()\n",
    "    \n",
    "plt.savefig(f'{fig_dir}/cordis_sdg_project_share_by_fp_barh.png', dpi=300);"
   ]
  },
  {
   "cell_type": "markdown",
   "metadata": {},
   "source": [
    "### Multiple Goal Frequency"
   ]
  },
  {
   "cell_type": "code",
   "execution_count": null,
   "metadata": {},
   "outputs": [],
   "source": [
    "def sum_rows(X, norm=False, sort='index', sort_ascending=False):\n",
    "    '''sum_rows'''\n",
    "    X = X.sum(axis=1).value_counts()\n",
    "    if sort == 'index':\n",
    "        X = X.sort_index(ascending=sort_ascending)\n",
    "    elif sort == 'values':\n",
    "        X = X.sort_values(ascending=sort_ascending)\n",
    "        \n",
    "    if norm:\n",
    "        X = X / X.sum()\n",
    "        \n",
    "    return X\n",
    "\n",
    "def plot_sdg_count(sdg_df, ax, norm=False):\n",
    "    '''plot_sdg_count\n",
    "    '''\n",
    "    counts = sum_rows(sdg_df, norm=norm)\n",
    "    if norm:\n",
    "        counts = counts * 100\n",
    "    counts.plot.barh(ax=ax)\n",
    "    if norm:\n",
    "        ax.set_xlabel('% of Projects')\n",
    "    else:\n",
    "        ax.set_xlabel('Number of Projects')\n",
    "    ax.set_ylabel('Number of SDGs')"
   ]
  },
  {
   "cell_type": "code",
   "execution_count": null,
   "metadata": {},
   "outputs": [],
   "source": [
    "fig, axs = plt.subplots(ncols=3, figsize=(15, 4))\n",
    "\n",
    "for ax, fp in zip(axs, FRAMEWORK_PROGRAMMES[-3:]):\n",
    "    plot_sdg_count(project_sdgs[fp], ax, norm=True)\n",
    "    ax.set_title(fp.upper())\n",
    "    \n",
    "plt.savefig(f'{fig_dir}/cordis_sdgs_per_project_by_fp_barh.png', dpi=300);"
   ]
  },
  {
   "cell_type": "markdown",
   "metadata": {},
   "source": [
    "### Change in Relative SDG Activity Over Time"
   ]
  },
  {
   "cell_type": "code",
   "execution_count": null,
   "metadata": {},
   "outputs": [],
   "source": [
    "def merge_projects_sdgs(project_dfs, sdg_dfs):\n",
    "    sdg_df = pd.concat(sdg_dfs, axis=0)\n",
    "    project_df = pd.concat(project_dfs, axis=0)\n",
    "    project_df = project_df.merge(sdg_df, left_index=True, right_index=True, how='right')\n",
    "    return project_df\n",
    "\n",
    "def plot_sdg_frequency_fps(project_df, fps=FRAMEWORK_PROGRAMMES):\n",
    "    '''plot_sdg_frequency_fps'''\n",
    "    \n",
    "    fp_project_count = project_df['framework_programme'].value_counts()\n",
    "    fps = [fp.upper() for fp in fps]\n",
    "    \n",
    "    fig, ax = plt.subplots(figsize=(15, 7))\n",
    "    freqs = (project_df\n",
    "             .groupby('framework_programme')[sdg_keys].sum()\n",
    "             .divide(fp_project_count, axis=0)\n",
    "             .T \n",
    "             * 100)[fps]\n",
    "    freqs.plot.bar(cmap='viridis_r', ax=ax)\n",
    "\n",
    "    ax.set_xticklabels(sdg_names().values(), rotation=45, ha='right')\n",
    "    ax.set_ylabel('% of Projects')\n",
    "    plt.tight_layout();"
   ]
  },
  {
   "cell_type": "code",
   "execution_count": null,
   "metadata": {},
   "outputs": [],
   "source": [
    "all_project_df = merge_projects_sdgs(projects.values(), project_sdgs.values())\n",
    "plot_sdg_frequency_fps(all_project_df, fps=FRAMEWORK_PROGRAMMES)\n",
    "plt.savefig(f'{fig_dir}/cordis_project_share_vs_sdg_by_fp_bar.png', dpi=300);"
   ]
  },
  {
   "cell_type": "markdown",
   "metadata": {},
   "source": [
    "### Combining H2020, FP7 and FP6"
   ]
  },
  {
   "cell_type": "code",
   "execution_count": null,
   "metadata": {},
   "outputs": [],
   "source": [
    "sdg_keys = list(range(1, 17))\n",
    "sdg_keys_all = list(range(0, 17))"
   ]
  },
  {
   "cell_type": "code",
   "execution_count": null,
   "metadata": {},
   "outputs": [],
   "source": [
    "def add_no_sdg(df, sdg_cols):\n",
    "    df[0] = 0\n",
    "    df.loc[df[sdg_cols].sum(axis=1) == 0, 0] = 1\n",
    "    return df"
   ]
  },
  {
   "cell_type": "code",
   "execution_count": null,
   "metadata": {},
   "outputs": [],
   "source": [
    "project_df = merge_projects_sdgs([projects[fp] for fp in FRAMEWORK_PROGRAMMES[:3]],\n",
    "                                 [project_sdgs[fp] for fp in FRAMEWORK_PROGRAMMES[:3]])\n",
    "project_df = add_no_sdg(project_df, sdg_keys)"
   ]
  },
  {
   "cell_type": "markdown",
   "metadata": {},
   "source": [
    "### Project Validation"
   ]
  },
  {
   "cell_type": "code",
   "execution_count": null,
   "metadata": {},
   "outputs": [],
   "source": [
    "def validate(df, sdg):\n",
    "    v = []\n",
    "    rows = project_df[project_df[sdg] == 1].sample(10, random_state=0)\n",
    "    print(f'=== {sdg_names().get(sdg, \"No SDG\")} ===')\n",
    "    for i, row in rows.iterrows():\n",
    "        title = row.title\n",
    "        objective = row.objective\n",
    "        print(f'>>> {title.upper()}')\n",
    "        print(f'{objective}')\n",
    "        x = input()\n",
    "        v.append(x)\n",
    "    return v"
   ]
  },
  {
   "cell_type": "markdown",
   "metadata": {},
   "source": [
    "### Top Tf-Idf Terms"
   ]
  },
  {
   "cell_type": "code",
   "execution_count": null,
   "metadata": {},
   "outputs": [],
   "source": [
    "from sklearn.feature_extraction.text import TfidfVectorizer\n",
    "from stop_words import get_stop_words"
   ]
  },
  {
   "cell_type": "code",
   "execution_count": null,
   "metadata": {},
   "outputs": [],
   "source": [
    "stops = get_stop_words('en')\n",
    "tfidf = TfidfVectorizer(min_df=10, max_df=0.3, ngram_range=(2,2), \n",
    "                        stop_words=stops, token_pattern=u'(?ui)\\\\b\\\\w*[a-z]+\\\\w*\\\\b')\n",
    "tfidf_vecs = tfidf.fit_transform(project_df['objective'].fillna(''))"
   ]
  },
  {
   "cell_type": "code",
   "execution_count": null,
   "metadata": {},
   "outputs": [],
   "source": [
    "def get_top_tfidf_scores(doc_ids, tfidf, tfidf_vecs, topn=20):\n",
    "    tfidf_docs_sum = np.array(tfidf_vecs[doc_ids].sum(axis=1))[:, 0]\n",
    "    top_term_ids = np.argsort(tfidf_docs_sum)[::-1][:topn]\n",
    "    terms = np.array(tfidf.get_feature_names())[top_term_ids]\n",
    "    return terms"
   ]
  },
  {
   "cell_type": "code",
   "execution_count": null,
   "metadata": {},
   "outputs": [],
   "source": [
    "get_top_tfidf_scores((project_df[7] == 1).values, tfidf, tfidf_vecs)"
   ]
  },
  {
   "cell_type": "markdown",
   "metadata": {},
   "source": [
    "### SDG Activity by Year"
   ]
  },
  {
   "cell_type": "code",
   "execution_count": null,
   "metadata": {},
   "outputs": [],
   "source": [
    "def mask_by_year(df, date_col='start_date', start_year=2004, end_year=2019):\n",
    "    '''mask_by_year\n",
    "    \n",
    "    Args:\n",
    "        df (pd.DataFrame):\n",
    "        date_col (str):\n",
    "        start_year (int):\n",
    "        end_year (int):\n",
    "        \n",
    "    Returns:\n",
    "        (pd.DataFrame):\n",
    "    '''\n",
    "    return df[(df[date_col].dt.year >= start_year) & (df[date_col].dt.year <= end_year)]\n",
    "\n",
    "\n",
    "def normalised_count_activity(df, groupby, value_columns, baseline_col):\n",
    "    '''normalised_activity\n",
    "    Calculates count of \n",
    "    '''\n",
    "    total_activity_by_year = df.groupby(groupby)[baseline_col].count()\n",
    "    normalised_activity = (df.groupby(groupby)[value_columns].sum()\n",
    "                .divide(total_activity_by_year, axis=0)) * 100\n",
    "    return normalised_activity\n",
    "\n",
    "\n",
    "def plot_sdg_normalised_count_activity(project_df):\n",
    "    opts = {\n",
    "        'groupby': pd.Grouper(key='start_date', freq='Y'),\n",
    "        'value_columns': list(range(1, 17)),\n",
    "        'baseline_col': 'id',\n",
    "    }\n",
    "    normed = normalised_count_activity(project_df, **opts)\n",
    "    fig, axs = plt.subplots(figsize=(7, 5))\n",
    "\n",
    "    (normed\n",
    "     .rename(columns=sdg_names())\n",
    "     .plot(\n",
    "         color=sdg_hex_color_codes().values(), \n",
    "         ax=axs, \n",
    "         legend=None, \n",
    "         alpha=.7, \n",
    "         linewidth=2)\n",
    "    )\n",
    "    axs.set_xlabel('Project Start Year')\n",
    "    axs.set_ylabel('Share of Projects in Year (%)')\n",
    "    axs.legend(loc='center left', bbox_to_anchor=(1, 0.5));"
   ]
  },
  {
   "cell_type": "code",
   "execution_count": null,
   "metadata": {},
   "outputs": [],
   "source": [
    "start_year = 2004\n",
    "end_year = 2019\n",
    "project_df = mask_by_year(project_df, date_col='start_date', start_year=start_year, end_year=end_year)\n",
    "\n",
    "plot_sdg_normalised_count_activity(project_df)\n",
    "plt.savefig(f'{fig_dir}/cordis_sdg_project_share_vs_time_line.png', dpi=300, bbox_inches=\"tight\");"
   ]
  },
  {
   "cell_type": "code",
   "execution_count": null,
   "metadata": {},
   "outputs": [],
   "source": [
    "fp_details = pd.read_csv('../../data/raw/cordis/ref/cordis_fp_details.csv')"
   ]
  },
  {
   "cell_type": "code",
   "execution_count": null,
   "metadata": {},
   "outputs": [],
   "source": [
    "fig, ax = plt.subplots()\n",
    "total_projects_by_year = project_df.groupby(pd.Grouper(key='start_date', freq='Y'))['id'].count()\n",
    "total_projects_by_year.plot(ax=ax)\n",
    "ax.axvline(\n",
    "    pd.to_datetime(\n",
    "        f\"{fp_details.set_index('name').loc['h2020']['start_year']}-01-01\"), \n",
    "        color='gray', \n",
    "        linestyle='--')\n",
    "ax.axvline(\n",
    "    pd.to_datetime(\n",
    "        f\"{fp_details.set_index('name').loc['fp7']['start_year']}-01-01\"), \n",
    "        color='gray', \n",
    "        linestyle='--')\n",
    "ax.set_xlabel('Year')\n",
    "ax.set_ylabel('Number of Projects')\n",
    "\n",
    "plt.savefig(f'{fig_dir}/cordis_n_projects_vs_year_line.png', dpi=300, bbox_inches=\"tight\");"
   ]
  },
  {
   "cell_type": "markdown",
   "metadata": {},
   "source": [
    "### Temporal Trends in SDG Quotient"
   ]
  },
  {
   "cell_type": "code",
   "execution_count": null,
   "metadata": {},
   "outputs": [],
   "source": [
    "def create_quotient(X, binary=False):\n",
    "    \"\"\"Calculate the location quotient\n",
    "\n",
    "    Divides the share of activity in a location by the share of activity in the UK total\n",
    "\n",
    "    Args:\n",
    "        X (pandas.DataFrame): DataFrame where rows are locations, columns are sectors \n",
    "            and values are activity in a given sector at a location.\n",
    "        binary (bool, optional): If True, discretise the data with a cut-off value of 1\n",
    "\n",
    "    Returns:\n",
    "        pandas.DataFrame\n",
    "    \"\"\"\n",
    "    Xm = X.values\n",
    "    X = pd.DataFrame((Xm/Xm.sum(1)[:, np.newaxis])/(Xm.sum(0)/Xm.sum()),\n",
    "            index=X.index, columns=X.columns)\n",
    "\n",
    "    return (X > 1) if binary else X\n",
    "\n",
    "def sdg_group_quotient(df, groupby):\n",
    "    '''sdg_group_quotient\n",
    "    \n",
    "    Args:\n",
    "        df (pd.DataFrame): \n",
    "        groupby (str of pd.Grouper): \n",
    "        \n",
    "    Returns:\n",
    "        quotient (pd.DataFrame): \n",
    "    '''\n",
    "    sdg_count_fp = df.groupby(groupby)[sdg_keys_all].sum()\n",
    "    quotient = create_quotient(sdg_count_fp)[sdg_keys]\n",
    "    return quotient\n",
    "\n",
    "def plot_sdg_group_quotient_change_bar(df, first=0, last=-1):\n",
    "    grad = df.iloc[last] - df.iloc[first]\n",
    "    order = grad.sort_values().index.values\n",
    "    \n",
    "    fig, ax = plt.subplots(figsize=(5, 10))\n",
    "    df.iloc[::-1][order].T.plot.barh(\n",
    "        ax=ax, color=['#014092', '#177afd', '#8bbdfe'], edgecolor='white')\n",
    "    ax.set_yticklabels([sdg_names()[i] for i in order])\n",
    "    ax.axvline(1, color='gray', linestyle='--')\n",
    "    ax.legend(loc='center left', bbox_to_anchor=(1, 0.5))\n",
    "    ax.set_xlabel('Quotient');"
   ]
  },
  {
   "cell_type": "code",
   "execution_count": null,
   "metadata": {},
   "outputs": [],
   "source": [
    "sdg_quotient_fp = sdg_group_quotient(project_df, 'framework_programme')\n",
    "plot_sdg_group_quotient_change_bar(sdg_quotient_fp)\n",
    "\n",
    "plt.savefig(f'{fig_dir}/cordis_activity_specialisation_vs_sdg_by_fp_barh.png', dpi=300, bbox_inches=\"tight\");"
   ]
  },
  {
   "cell_type": "markdown",
   "metadata": {},
   "source": [
    "### SDG Funding by Year"
   ]
  },
  {
   "cell_type": "code",
   "execution_count": null,
   "metadata": {},
   "outputs": [],
   "source": [
    "def sdg_project_funds(df, fund_column):\n",
    "    '''sdg_project_funds\n",
    "    Multiplies SDG columns by the amount of funding recieved by a project.\n",
    "    '''\n",
    "    sdg_funds = df[sdg_keys_all] * df[fund_column].values[:,None]\n",
    "    return sdg_funds\n",
    "\n",
    "def sdg_funding_by_group(df, groupby, fund_column='ec_max_contribution', norm=False):\n",
    "    '''normalised_activity\n",
    "    Calculates count of \n",
    "    '''\n",
    "    total_funds = df.groupby(groupby)[fund_column].sum()\n",
    "    sdg_funds = sdg_project_funds(df, fund_column)\n",
    "    \n",
    "    if type(groupby) == str:\n",
    "        sdg_funds[groupby] = df[groupby]\n",
    "    elif type(groupby) == pd.core.resample.TimeGrouper:\n",
    "        sdg_funds[groupby.key] = df[groupby.key]\n",
    "        \n",
    "    sdg_funds_group = sdg_funds.groupby(groupby)[sdg_keys].sum()\n",
    "    \n",
    "    if norm:\n",
    "         sdg_funds_group = sdg_funds_group.divide(total_funds, axis=0)\n",
    "            \n",
    "    return sdg_funds_group\n",
    "\n",
    "def plot_sdg_funds_vs_time_line(df, norm=True):\n",
    "    \n",
    "    fig, ax = plt.subplots(figsize=(7, 5))\n",
    "    \n",
    "    if norm:\n",
    "        df = df * 100\n",
    "    else:\n",
    "        df = df / 1e9\n",
    "        \n",
    "    df.columns = [sdg_names()[i] for i in df.columns]\n",
    "    \n",
    "    df.plot(color=sdg_hex_color_codes().values(), ax=ax, alpha=.9, linewidth=2)\n",
    "    \n",
    "    ax.set_xlabel('Project Start Year')\n",
    "    if norm:\n",
    "        ax.set_ylabel('Share of Funding in Year (%)')\n",
    "    else:\n",
    "        ax.set_ylabel('Funding (€bn)')\n",
    "    ax.legend(loc='center left', bbox_to_anchor=(1, 0.5));"
   ]
  },
  {
   "cell_type": "code",
   "execution_count": null,
   "metadata": {},
   "outputs": [],
   "source": [
    "start_date_1yr_grouper = pd.Grouper(key='start_date', freq='Y')\n",
    "sdg_funding = sdg_funding_by_group(project_df, start_date_1yr_grouper, \n",
    "                                        fund_column='ec_max_contribution', norm=False)\n",
    "plot_sdg_funds_vs_time_line(sdg_funding, norm=False)\n",
    "plt.savefig(f'{fig_dir}/cordis_funding_vs_time_by_sdg_line.png', dpi=300, bbox_inches=\"tight\");"
   ]
  },
  {
   "cell_type": "code",
   "execution_count": null,
   "metadata": {},
   "outputs": [],
   "source": [
    "sdg_funding_norm = sdg_funding_by_group(project_df, start_date_1yr_grouper, \n",
    "                                        fund_column='ec_max_contribution', norm=True)\n",
    "plot_sdg_funds_vs_time_line(sdg_funding_norm, norm=True)\n",
    "plt.savefig(f'{fig_dir}/cordis_funding_share_vs_time_by_sdg_line.png', dpi=300, bbox_inches=\"tight\");"
   ]
  },
  {
   "cell_type": "markdown",
   "metadata": {},
   "source": [
    "### Temporal Trends in SDG Funding Quotient"
   ]
  },
  {
   "cell_type": "code",
   "execution_count": null,
   "metadata": {},
   "outputs": [],
   "source": [
    "sdg_fund_quotient_fp = sdg_group_quotient(\n",
    "    sdg_project_funds(project_df, 'ec_max_contribution'), \n",
    "    project_df['framework_programme'])\n",
    "plot_sdg_group_quotient_change_bar(sdg_fund_quotient_fp)\n",
    "plt.savefig(f'{fig_dir}/cordis_funding_specialisation_vs_sdg_by_fp_barh.png', dpi=300, bbox_inches=\"tight\");"
   ]
  },
  {
   "cell_type": "markdown",
   "metadata": {},
   "source": [
    "### Coordinators"
   ]
  },
  {
   "cell_type": "code",
   "execution_count": null,
   "metadata": {},
   "outputs": [],
   "source": [
    "import seaborn as sns"
   ]
  },
  {
   "cell_type": "code",
   "execution_count": null,
   "metadata": {},
   "outputs": [],
   "source": [
    "coordinator_ohe = pd.get_dummies(project_df['coordinator_country'])\n",
    "top_countries = coordinator_ohe.sum()[coordinator_ohe.sum() > 50].index"
   ]
  },
  {
   "cell_type": "code",
   "execution_count": null,
   "metadata": {},
   "outputs": [],
   "source": [
    "project_count_by_country = project_df['coordinator_country'].value_counts()\n",
    "project_share_by_country = (project_count_by_country / project_count_by_country.sum()) * 100\n",
    "\n",
    "sdg_count_by_country = project_df.groupby('coordinator_country')[sdg_keys_all].sum()\n",
    "sdg_share_by_country = (sdg_count_by_country / sdg_count_by_country.sum()) * 100\n",
    "\n"
   ]
  },
  {
   "cell_type": "code",
   "execution_count": null,
   "metadata": {},
   "outputs": [],
   "source": [
    "def coordinator_country_share_of_projects(df):\n",
    "    all_count = df['coordinator_country'].value_counts()\n",
    "    share = all_count / all_count.sum()\n",
    "    return share\n",
    "\n",
    "def coordinator_country_share_of_sdg_projects(df, include_all=False):\n",
    "    sdg_count = df.groupby('coordinator_country')[sdg_keys_all].sum()\n",
    "    share = (sdg_count / sdg_count.sum())\n",
    "    return share"
   ]
  },
  {
   "cell_type": "code",
   "execution_count": null,
   "metadata": {},
   "outputs": [],
   "source": [
    "def plot_sdg_share_by_coordinator_country_bar(share_sdg, share_all, country=None, topn=10):\n",
    "    if country is not None:\n",
    "        order = share_sdg.loc[country].sort_values(ascending=False).index.values\n",
    "        order = order[order != 0]\n",
    "    else:\n",
    "        order = sdg_keys\n",
    "        \n",
    "    fig, axs = plt.subplots(figsize=(15, 7), ncols=4, nrows=4)\n",
    "\n",
    "    for sdg, ax in zip(order, axs.ravel()):\n",
    "        top = share_sdg[sdg].sort_values(ascending=False)[:topn]\n",
    "        if country is not None:\n",
    "            color = ['C0' if c != country else 'C1' for c in top.index.values]\n",
    "        else:\n",
    "            color = 'C0'\n",
    "        (top * 100).plot.bar(ax=ax, color=color, alpha=0.6)\n",
    "        ax.set_title(sdg_names()[sdg])\n",
    "        shares = share_all.loc[top.index.values] * 100\n",
    "        ax.scatter(shares.index.values, shares.values, color=color)\n",
    "        ax.set_xlabel('Coordinator Country')\n",
    "        ax.set_ylabel('% of SDG')\n",
    "\n",
    "    plt.tight_layout();"
   ]
  },
  {
   "cell_type": "code",
   "execution_count": null,
   "metadata": {},
   "outputs": [],
   "source": [
    "plot_sdg_share_by_coordinator_country_bar(coordinator_country_share_of_sdg_projects(project_df),\n",
    "                                         coordinator_country_share_of_projects(project_df))\n",
    "plt.savefig(f'{fig_dir}/cordis_sdg_activity_share_vs_coordinator_by_sdg_bar.png', dpi=300);"
   ]
  },
  {
   "cell_type": "markdown",
   "metadata": {},
   "source": [
    "### Coordinator Country Specialisation"
   ]
  },
  {
   "cell_type": "markdown",
   "metadata": {},
   "source": [
    "#### Get EU Country Codes"
   ]
  },
  {
   "cell_type": "code",
   "execution_count": null,
   "metadata": {},
   "outputs": [],
   "source": [
    "def generate_eu_country_codes():\n",
    "    country_df = pd.read_json(f'{data_path}/raw/countries/countries_restcountries_api.json')\n",
    "    europe = []\n",
    "    for code, c in zip(country_df['alpha2Code'], country_df['regionalBlocs']):\n",
    "        for x in c:\n",
    "            if x['acronym'] == 'EU':\n",
    "                europe.append(code)\n",
    "    \n",
    "    # Britain called 'UK' in CORDIS\n",
    "    europe = sorted(['UK' if e == 'GB' else e for e in europe])\n",
    "    return europe"
   ]
  },
  {
   "cell_type": "code",
   "execution_count": null,
   "metadata": {},
   "outputs": [],
   "source": [
    "europe = generate_eu_country_codes()"
   ]
  },
  {
   "cell_type": "code",
   "execution_count": null,
   "metadata": {},
   "outputs": [],
   "source": [
    "def coordinator_country_sdg_lq(df, min_cnt=0):\n",
    "    '''coordinator_country_sdg_lq\n",
    "    Calculates the location quotient of SDG projects for each coordinator\n",
    "    country.\n",
    "    Args:\n",
    "        df (pd.DataFrame): CORDIS projects with coordinator_country column \n",
    "            and sdg labels with integer headers.\n",
    "        min_cnt (int): Only return LQ for countries with this many projects\n",
    "            or more. Defaults to 0.\n",
    "        \n",
    "    Returns:\n",
    "        lq (pd.DataFrame): SDG project location quotients with SDGs along \n",
    "            columns and countries as index.\n",
    "    '''\n",
    "    counts = df.groupby('coordinator_country')[sdg_keys_all].sum()\n",
    "    lq = create_quotient(counts)\n",
    "    lq = lq[counts.sum(axis=1) >= min_cnt]\n",
    "    return lq"
   ]
  },
  {
   "cell_type": "code",
   "execution_count": null,
   "metadata": {},
   "outputs": [],
   "source": [
    "# eu_coordinator_sdg_lq = coordinator_sdg_lq.reindex(europe).dropna(how='all')\n",
    "# eu_high = project_count_by_country[project_count_by_country > 50].reindex(europe).dropna().index.values\n",
    "\n",
    "def plot_sdg_lq_by_country_bar(lq_df, countries=None, topn=10):\n",
    "    '''plot_sdg_lq_by_country_bar\n",
    "    '''\n",
    "    \n",
    "    countries = lq_df.reindex(countries).dropna().index.values\n",
    "    \n",
    "    fig, axs = plt.subplots(figsize=(15, 7), ncols=4, nrows=4)\n",
    "\n",
    "    for sdg, ax in zip(sdg_keys, axs.ravel()):\n",
    "        x = lq_df[sdg].loc[countries].sort_values(ascending=False)[:topn]\n",
    "        x.plot.bar(ax=ax, color=sdg_hex_color_codes()[sdg])\n",
    "        ax.set_title(sdg_names()[sdg])\n",
    "        ax.set_xlabel('Coordinator Country')\n",
    "        ax.set_ylabel('LQ')\n",
    "        ax.axhline(1, color='gray', linestyle='--')\n",
    "\n",
    "    plt.tight_layout();"
   ]
  },
  {
   "cell_type": "code",
   "execution_count": null,
   "metadata": {},
   "outputs": [],
   "source": [
    "coordinator_lq = coordinator_country_sdg_lq(project_df, 50)\n",
    "plot_sdg_lq_by_country_bar(coordinator_lq, countries=None, topn=10)\n",
    "\n",
    "plt.savefig(f'{fig_dir}/cordis_specialisation_vs_coordinator_by_sdg_bar.png', dpi=300);"
   ]
  },
  {
   "cell_type": "code",
   "execution_count": null,
   "metadata": {},
   "outputs": [],
   "source": [
    "from sdg_mapping.geo.nuts import load_nuts_regions"
   ]
  },
  {
   "cell_type": "code",
   "execution_count": null,
   "metadata": {},
   "outputs": [],
   "source": [
    "def plot_europe_sdg_choropleth(df, label, countries=None):\n",
    "    '''plot_europe_sdg_choropleth\n",
    "    Plots a 4x4 axis of choropleths with one for each SDG.\n",
    "    '''\n",
    "    nuts = load_nuts_regions(2016, f'{data_path}/raw/shapefiles', level=0, resolution=60, countries=None)\n",
    "    \n",
    "    fig, axs = plt.subplots(ncols=4, nrows=4, figsize=(15,12))\n",
    "\n",
    "    for sdg, ax in zip(sdg_keys, axs.ravel()):\n",
    "\n",
    "        nuts_sdg = nuts.set_index('CNTR_CODE')\n",
    "        nuts_sdg['value'] = df[sdg]\n",
    "        if countries is not None:\n",
    "            nuts_sdg = nuts_sdg.reindex(countries)\n",
    "        nuts_sdg.plot(column='value', ax=ax, cmap='viridis_r', legend=True,\n",
    "                     edgecolor='#bbbbbb', linewidth=.5,\n",
    "                     legend_kwds={'orientation': \"vertical\", 'shrink': .4, 'label': label})\n",
    "        ax.set_xlim(-25, 45)\n",
    "        ax.set_ylim(30, 75)\n",
    "        ax.set_title(sdg_names()[sdg])\n",
    "\n",
    "        ax.axis('off')\n",
    "\n",
    "        plt.tight_layout();"
   ]
  },
  {
   "cell_type": "code",
   "execution_count": null,
   "metadata": {},
   "outputs": [],
   "source": [
    "plot_europe_sdg_choropleth(coordinator_lq, 'LQ')\n",
    "plt.savefig(f'{fig_dir}/cordis_specialisation_vs_coordinator_by_sdg_europe_choropleth.png', dpi=300);"
   ]
  },
  {
   "cell_type": "markdown",
   "metadata": {},
   "source": [
    "### All Country Specialisation"
   ]
  },
  {
   "cell_type": "code",
   "execution_count": null,
   "metadata": {},
   "outputs": [],
   "source": [
    "def generate_all_countries(coordinator, participants):\n",
    "    if type(participants) == list:\n",
    "        if pd.isnull(coordinator):\n",
    "            return participants\n",
    "        else:\n",
    "            return [coordinator] + participants\n",
    "    else:\n",
    "        if pd.isnull(coordinator):\n",
    "            return []\n",
    "        else:\n",
    "            return [coordinator]"
   ]
  },
  {
   "cell_type": "code",
   "execution_count": null,
   "metadata": {},
   "outputs": [],
   "source": [
    "def create_country_ohe(df, col):\n",
    "    '''create_country_ohe\n",
    "    Creates a one hot encoding of countries involved in a project\n",
    "    with project RCN as the index.\n",
    "    \n",
    "    Args:\n",
    "        df (pd.DataFrame):\n",
    "        \n",
    "    Returns:\n",
    "        countries_df (pd.DataFrame):\n",
    "    '''\n",
    "    mlb_all = MultiLabelBinarizer()\n",
    "    mlb_vecs_all = mlb_all.fit_transform(project_df[col])\n",
    "    countries_df = pd.DataFrame(\n",
    "        mlb_vecs_all, \n",
    "        columns=mlb_all.classes_, \n",
    "        index=project_df.index.values)\n",
    "    countries_df.index.name = 'rcn'\n",
    "    return countries_df"
   ]
  },
  {
   "cell_type": "code",
   "execution_count": null,
   "metadata": {},
   "outputs": [],
   "source": [
    "def multi_country_sdg_count(df, col, norm=False):\n",
    "    '''mult_country_sdg_count\n",
    "    '''\n",
    "    countries_ohe = create_country_ohe(df, col)\n",
    "\n",
    "    x = countries_ohe.T.unstack().reset_index(level=1)\n",
    "    x = x[x[0] == 1]\n",
    "    x.drop(0, axis=1, inplace=True)\n",
    "    x.rename(columns={'level_1': 'country'}, inplace=True)\n",
    "    x = x.merge(df[sdg_keys_all], left_index=True, right_index=True, how='left')\n",
    "    sdg_count = x.groupby('country').sum()\n",
    "    if norm:\n",
    "        sdg_count = sdg_count.divide(sdg_count.shape[0])\n",
    "    return sdg_count\n",
    "\n",
    "def multi_country_share_of_projects(df, col):\n",
    "    all_count = create_country_ohe(df, col).sum()\n",
    "    share = all_count / all_count.sum()\n",
    "    return share\n",
    "\n",
    "def multi_country_share_of_sdg_projects(df, col):\n",
    "    count = multi_country_sdg_count(project_df, 'all_countries')\n",
    "    share = (count / count.sum())\n",
    "    return share"
   ]
  },
  {
   "cell_type": "code",
   "execution_count": null,
   "metadata": {},
   "outputs": [],
   "source": [
    "project_df['all_countries'] = project_df.apply(\n",
    "    lambda row: generate_all_countries(row['coordinator_country'], row['participant_countries']), axis=1)\n",
    "all_countries_sdg_activity_df = multi_country_sdg_count(project_df, 'all_countries')\n",
    "\n",
    "plot_sdg_share_by_coordinator_country_bar(multi_country_share_of_sdg_projects(project_df, 'all_countries'),\n",
    "                                         multi_country_share_of_projects(project_df, 'all_countries'))\n",
    "\n",
    "plt.savefig(f'{fig_dir}/cordis_sdg_activity_share_vs_involved_by_sdg_bar.png', dpi=300)"
   ]
  },
  {
   "cell_type": "code",
   "execution_count": null,
   "metadata": {},
   "outputs": [],
   "source": [
    "def multi_country_location_quotient(df, col, min_cnt=0):\n",
    "    counts = multi_country_sdg_count(project_df, col)\n",
    "    lq = create_quotient(counts)[sdg_keys]\n",
    "    lq = lq[counts.sum(axis=1) >= min_cnt]\n",
    "    return lq"
   ]
  },
  {
   "cell_type": "code",
   "execution_count": null,
   "metadata": {},
   "outputs": [],
   "source": [
    "all_lq = multi_country_location_quotient(project_df, 'all_countries', 50)\n",
    "plot_sdg_lq_by_country_bar(all_lq, countries=None, topn=10)\n",
    "plt.savefig(f'{fig_dir}/cordis_specialisation_vs_involved_by_sdg_bar.png', dpi=300);"
   ]
  },
  {
   "cell_type": "code",
   "execution_count": null,
   "metadata": {},
   "outputs": [],
   "source": [
    "plot_europe_sdg_choropleth(all_lq, 'LQ')\n",
    "plt.savefig(f'{fig_dir}/cordis_specialisation_vs_involved_by_sdg_europe_choropleth.png', dpi=300);"
   ]
  },
  {
   "cell_type": "markdown",
   "metadata": {},
   "source": [
    "### All Country Specialisation Clustering"
   ]
  },
  {
   "cell_type": "code",
   "execution_count": null,
   "metadata": {},
   "outputs": [],
   "source": [
    "from sklearn.metrics import pairwise_distances"
   ]
  },
  {
   "cell_type": "code",
   "execution_count": null,
   "metadata": {},
   "outputs": [],
   "source": [
    "all_cluster_lq = multi_country_location_quotient(project_df, 'all_countries', 10)"
   ]
  },
  {
   "cell_type": "code",
   "execution_count": null,
   "metadata": {},
   "outputs": [],
   "source": [
    "sns.clustermap(pd.DataFrame(1 - pairwise_distances(all_cluster_lq[sdg_keys], metric='cosine'), \n",
    "                            index=all_cluster_lq.index.values, columns=all_cluster_lq.index.values))\n",
    "plt.savefig(f'{fig_dir}/cordis_sdg_specialisation_involved_cosine_clustermap.png', dpi=300)"
   ]
  },
  {
   "cell_type": "code",
   "execution_count": null,
   "metadata": {},
   "outputs": [],
   "source": []
  }
 ],
 "metadata": {
  "language_info": {
   "name": "python",
   "pygments_lexer": "ipython3"
  }
 },
 "nbformat": 4,
 "nbformat_minor": 4
}
