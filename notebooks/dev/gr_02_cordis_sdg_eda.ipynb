{
 "cells": [
  {
   "cell_type": "markdown",
   "metadata": {},
   "source": [
    "# CORDIS SDG EDA"
   ]
  },
  {
   "cell_type": "markdown",
   "metadata": {},
   "source": [
    "Perform and write up initial analysis of CORDIS projects labelled with SDGs\n",
    "\n",
    "QD\n",
    "- [x] Validation of classification by manual sampling of projects labelled with SDGs\n",
    "- [ ] [On hold?] Top terms associated with SDGs\n",
    "- [x] Percentage of projects that had classification successfully performed\n",
    "\n",
    "EDA\n",
    "- [x] Change in SDG activity over time\n",
    "- [x] Change in funding for SDGs over time\n",
    "- [x] SDG activity and specialisation by coordinator country\n",
    "- [ ] SDG activity and specialisation by participant countries\n",
    "- [ ] SDG activity and specialisation by country involvement\n",
    "\n",
    "Extra Ideas\n",
    "- [ ] Diversity of countries by SDG\n",
    "- [ ] Diversity of SDGs by country"
   ]
  },
  {
   "cell_type": "code",
   "execution_count": null,
   "metadata": {},
   "outputs": [],
   "source": [
    "%run ../notebook_preamble.ipy"
   ]
  },
  {
   "cell_type": "code",
   "execution_count": null,
   "metadata": {},
   "outputs": [],
   "source": [
    "from sdg_mapping.cordis import load_cordis_projects, load_cordis_project_sdgs\n",
    "from sdg_mapping.cordis.cordis_utils import FRAMEWORK_PROGRAMMES\n",
    "from sdg_mapping.utils.sdg_utils import sdg_hex_color_codes, sdg_names\n",
    "\n",
    "import seaborn as sns"
   ]
  },
  {
   "cell_type": "code",
   "execution_count": null,
   "metadata": {},
   "outputs": [],
   "source": [
    "projects = {}\n",
    "project_sdgs = {}\n",
    "\n",
    "for fp in FRAMEWORK_PROGRAMMES:\n",
    "    projects[fp] = load_cordis_projects(fp).set_index('rcn')\n",
    "    project_sdgs[fp] = load_cordis_project_sdgs(fp, 'strict_label').set_index('rcn')"
   ]
  },
  {
   "cell_type": "markdown",
   "metadata": {},
   "source": [
    "## Classification Coverage"
   ]
  },
  {
   "cell_type": "code",
   "execution_count": null,
   "metadata": {},
   "outputs": [],
   "source": [
    "def coverage(projects, sdgs):\n",
    "    c = sdgs.shape[0] / projects.shape[0] * 100\n",
    "    return c\n",
    "\n",
    "for fp in FRAMEWORK_PROGRAMMES:\n",
    "    c = coverage(projects[fp], project_sdgs[fp])\n",
    "    print(f'{c:.2f}% of {fp.upper()} projects were successfully classified')"
   ]
  },
  {
   "cell_type": "code",
   "execution_count": null,
   "metadata": {},
   "outputs": [],
   "source": [
    "c = [coverage(projects[fp], project_sdgs[fp]) for fp in FRAMEWORK_PROGRAMMES]\n",
    "\n",
    "fig, ax = plt.subplots()\n",
    "ax.bar([fp.upper() for fp in FRAMEWORK_PROGRAMMES], c)\n",
    "ax.set_ylabel('Classifier Coverage (%)')\n",
    "ax.set_xlabel('Framework Programme');"
   ]
  },
  {
   "cell_type": "markdown",
   "metadata": {},
   "source": [
    "## H2020, FP7 and FP6"
   ]
  },
  {
   "cell_type": "markdown",
   "metadata": {},
   "source": [
    "### Aggregate Activity"
   ]
  },
  {
   "cell_type": "code",
   "execution_count": null,
   "metadata": {},
   "outputs": [],
   "source": [
    "def plot_sdg_activity(sdg_df, ax, norm=False):\n",
    "    '''plot_sdg_activity\n",
    "    '''\n",
    "    x = sdg_df.sum()\n",
    "    if norm:\n",
    "        x = x / x.sum()\n",
    "    x.plot.barh(color=sdg_hex_color_codes().values(), ax=ax)\n",
    "    ax.set_yticklabels(sdg_names().values())\n",
    "    ax.invert_yaxis()"
   ]
  },
  {
   "cell_type": "code",
   "execution_count": null,
   "metadata": {},
   "outputs": [],
   "source": [
    "fig, axs = plt.subplots(ncols=3, figsize=(15, 4), sharey=True)\n",
    "\n",
    "plot_sdg_activity(project_sdgs['fp6'], axs[0])\n",
    "axs[0].set_title('FP6')\n",
    "plot_sdg_activity(project_sdgs['fp7'], axs[1])\n",
    "axs[1].set_title('FP7')\n",
    "plot_sdg_activity(project_sdgs['h2020'], axs[2])\n",
    "axs[2].set_title('H2020');"
   ]
  },
  {
   "cell_type": "code",
   "execution_count": null,
   "metadata": {},
   "outputs": [],
   "source": [
    "fig, axs = plt.subplots(ncols=3, figsize=(15, 4), sharey=True)\n",
    "\n",
    "plot_sdg_activity(project_sdgs['fp6'], axs[0], norm=True)\n",
    "axs[0].set_title('FP6')\n",
    "plot_sdg_activity(project_sdgs['fp7'], axs[1], norm=True)\n",
    "axs[1].set_title('FP7')\n",
    "plot_sdg_activity(project_sdgs['h2020'], axs[2], norm=True)\n",
    "axs[2].set_title('H2020');"
   ]
  },
  {
   "cell_type": "code",
   "execution_count": null,
   "metadata": {},
   "outputs": [],
   "source": [
    "def plot_sdg_count(sdg_df, ax):\n",
    "    '''plot_sdg_count\n",
    "    '''\n",
    "    sdg_df.sum(axis=1).value_counts().sort_index().plot.barh(ax=ax)\n",
    "    ax.set_xlabel('N Projects')\n",
    "    ax.set_ylabel('N SDGs')\n",
    "    ax.invert_yaxis()"
   ]
  },
  {
   "cell_type": "markdown",
   "metadata": {},
   "source": [
    "### Multiple Goal Frequency"
   ]
  },
  {
   "cell_type": "code",
   "execution_count": null,
   "metadata": {},
   "outputs": [],
   "source": [
    "fig, axs = plt.subplots(ncols=3, figsize=(15, 4), sharey=True)\n",
    "\n",
    "plot_sdg_count(project_sdgs['fp6'], axs[0])\n",
    "axs[0].set_title('FP6')\n",
    "plot_sdg_count(project_sdgs['fp7'], axs[1])\n",
    "axs[1].set_title('FP7')\n",
    "plot_sdg_count(project_sdgs['h2020'], axs[2])\n",
    "axs[2].set_title('H2020');"
   ]
  },
  {
   "cell_type": "markdown",
   "metadata": {},
   "source": [
    "### Combining H2020, FP7 and FP6"
   ]
  },
  {
   "cell_type": "code",
   "execution_count": null,
   "metadata": {},
   "outputs": [],
   "source": [
    "sdg_df = pd.concat([project_sdgs[fp] for fp in FRAMEWORK_PROGRAMMES[:3]], axis=0)\n",
    "project_df = pd.concat([projects[fp] for fp in FRAMEWORK_PROGRAMMES[:3]], axis=0)\n",
    "project_df = project_df.merge(sdg_df, left_index=True, right_index=True, how='right')"
   ]
  },
  {
   "cell_type": "code",
   "execution_count": null,
   "metadata": {},
   "outputs": [],
   "source": [
    "sdg_keys = list(range(1, 17))\n",
    "sdg_keys_all = list(range(0, 17))"
   ]
  },
  {
   "cell_type": "code",
   "execution_count": null,
   "metadata": {},
   "outputs": [],
   "source": [
    "project_df[0] = 0\n",
    "project_df[0][project_df[sdg_keys].sum(axis=1) == 0] = 1"
   ]
  },
  {
   "cell_type": "markdown",
   "metadata": {},
   "source": [
    "### Project Validation"
   ]
  },
  {
   "cell_type": "code",
   "execution_count": null,
   "metadata": {},
   "outputs": [],
   "source": [
    "def validate(df, sdg):\n",
    "    v = []\n",
    "    rows = project_df[project_df[sdg] == 1].sample(10, random_state=0)\n",
    "    print(f'=== {sdg_names().get(sdg, \"No SDG\")} ===')\n",
    "    for i, row in rows.iterrows():\n",
    "        title = row.title\n",
    "        objective = row.objective\n",
    "        print(f'>>> {title.upper()}')\n",
    "        print(f'{objective}')\n",
    "        x = input()\n",
    "        v.append(x)\n",
    "    return v"
   ]
  },
  {
   "cell_type": "markdown",
   "metadata": {},
   "source": [
    "### Top Tf-Idf Terms"
   ]
  },
  {
   "cell_type": "code",
   "execution_count": null,
   "metadata": {},
   "outputs": [],
   "source": [
    "from sklearn.feature_extraction.text import TfidfVectorizer\n",
    "from stop_words import get_stop_words"
   ]
  },
  {
   "cell_type": "code",
   "execution_count": null,
   "metadata": {},
   "outputs": [],
   "source": [
    "stops = get_stop_words('en')\n",
    "tfidf = TfidfVectorizer(min_df=10, max_df=0.3, ngram_range=(2,2), \n",
    "                        stop_words=stops, token_pattern=u'(?ui)\\\\b\\\\w*[a-z]+\\\\w*\\\\b')\n",
    "tfidf_vecs = tfidf.fit_transform(project_df['objective'].fillna(''))"
   ]
  },
  {
   "cell_type": "code",
   "execution_count": null,
   "metadata": {},
   "outputs": [],
   "source": [
    "def get_top_tfidf_scores(doc_ids, tfidf, tfidf_vecs, topn=20):\n",
    "    tfidf_docs_sum = np.array(tfidf_vecs[doc_ids].sum(axis=1))[:, 0]\n",
    "    top_term_ids = np.argsort(tfidf_docs_sum)[::-1][:topn]\n",
    "    terms = np.array(tfidf.get_feature_names())[top_term_ids]\n",
    "    return terms"
   ]
  },
  {
   "cell_type": "code",
   "execution_count": null,
   "metadata": {},
   "outputs": [],
   "source": [
    "get_top_tfidf_scores((project_df[7] == 1).values, tfidf, tfidf_vecs)"
   ]
  },
  {
   "cell_type": "markdown",
   "metadata": {},
   "source": [
    "### SDG Activity by Year"
   ]
  },
  {
   "cell_type": "code",
   "execution_count": null,
   "metadata": {},
   "outputs": [],
   "source": [
    "def mask_by_year(df, date_col='start_date', start_year=2004, end_year=2019):\n",
    "    '''mask_by_year\n",
    "    \n",
    "    Args:\n",
    "        df (pd.DataFrame):\n",
    "        date_col (str):\n",
    "        start_year (int):\n",
    "        end_year (int):\n",
    "        \n",
    "    Returns:\n",
    "        (pd.DataFrame):\n",
    "    '''\n",
    "    return df[(df[date_col].dt.year >= start_year) & (df[date_col].dt.year <= end_year)]\n",
    "\n",
    "\n",
    "def normalised_count_activity(df, groupby, value_columns, baseline_col):\n",
    "    '''normalised_activity\n",
    "    Calculates count of \n",
    "    '''\n",
    "    total_activity_by_year = df.groupby(groupby)[baseline_col].count()\n",
    "    normalised_activity = (df.groupby(groupby)[value_columns].sum()\n",
    "                .divide(total_activity_by_year, axis=0)) * 100\n",
    "    return normalised_activity\n",
    "\n",
    "\n",
    "def plot_sdg_normalised_count_activity(project_df):\n",
    "    opts = {\n",
    "        'groupby': pd.Grouper(key='start_date', freq='Y'),\n",
    "        'value_columns': list(range(1, 17)),\n",
    "        'baseline_col': 'id',\n",
    "    }\n",
    "    normed = normalised_count_activity(project_df, **opts)\n",
    "    fig, axs = plt.subplots(figsize=(7, 5))\n",
    "\n",
    "    (normed\n",
    "     .rename(columns=sdg_names())\n",
    "     .plot(\n",
    "         color=sdg_hex_color_codes().values(), \n",
    "         ax=axs, \n",
    "         legend=None, \n",
    "         alpha=.7, \n",
    "         linewidth=2)\n",
    "    )\n",
    "    axs.set_xlabel('Project Start Year')\n",
    "    axs.set_ylabel('Share of Projects in Year (%)')\n",
    "    axs.legend(loc='center left', bbox_to_anchor=(1, 0.5));"
   ]
  },
  {
   "cell_type": "code",
   "execution_count": null,
   "metadata": {},
   "outputs": [],
   "source": [
    "start_year = 2004\n",
    "end_year = 2019\n",
    "project_df = mask_by_year(project_df, date_col='start_date', start_year=start_year, end_year=end_year)\n",
    "\n",
    "plot_sdg_normalised_count_activity(project_df)"
   ]
  },
  {
   "cell_type": "code",
   "execution_count": null,
   "metadata": {},
   "outputs": [],
   "source": [
    "fp_details = pd.DataFrame(\n",
    "    {\n",
    "        'name': FRAMEWORK_PROGRAMMES,\n",
    "        'start_year': [2014, 2007, 2002, 1998, 1994, 1990, 1987, 1984],\n",
    "        'end_year': [2020, 2013, 2006, 2002, 1998, 1994, 1991, 1987],\n",
    "    })"
   ]
  },
  {
   "cell_type": "code",
   "execution_count": null,
   "metadata": {},
   "outputs": [],
   "source": [
    "fig, ax = plt.subplots()\n",
    "total_projects_by_year = project_df.groupby(pd.Grouper(key='start_date', freq='Y'))['id'].count()\n",
    "total_projects_by_year.plot(ax=ax)\n",
    "ax.axvline(\n",
    "    pd.to_datetime(\n",
    "        f\"{fp_details.set_index('name').loc['h2020']['start_year']}-01-01\"), \n",
    "        color='gray', \n",
    "        linestyle='--')\n",
    "ax.axvline(\n",
    "    pd.to_datetime(\n",
    "        f\"{fp_details.set_index('name').loc['fp7']['start_year']}-01-01\"), \n",
    "        color='gray', \n",
    "        linestyle='--')"
   ]
  },
  {
   "cell_type": "markdown",
   "metadata": {},
   "source": [
    "### Temporal Trends in SDG Quotient"
   ]
  },
  {
   "cell_type": "code",
   "execution_count": null,
   "metadata": {},
   "outputs": [],
   "source": [
    "def create_quotient(X, binary=False):\n",
    "    \"\"\"Calculate the location quotient\n",
    "\n",
    "    Divides the share of activity in a location by the share of activity in the UK total\n",
    "\n",
    "    Args:\n",
    "        X (pandas.DataFrame): DataFrame where rows are locations, columns are sectors \n",
    "            and values are activity in a given sector at a location.\n",
    "        binary (bool, optional): If True, discretise the data with a cut-off value of 1\n",
    "\n",
    "    Returns:\n",
    "        pandas.DataFrame\n",
    "    \"\"\"\n",
    "    Xm = X.values\n",
    "    X = pd.DataFrame((Xm/Xm.sum(1)[:, np.newaxis])/(Xm.sum(0)/Xm.sum()),\n",
    "            index=X.index, columns=X.columns)\n",
    "\n",
    "    return (X > 1) if binary else X"
   ]
  },
  {
   "cell_type": "code",
   "execution_count": null,
   "metadata": {},
   "outputs": [],
   "source": [
    "sdg_quotient_fp = create_quotient(project_df.groupby('framework_programme')[sdg_keys_all].sum())[sdg_keys]"
   ]
  },
  {
   "cell_type": "code",
   "execution_count": null,
   "metadata": {},
   "outputs": [],
   "source": [
    "grad = sdg_quotient_fp.iloc[2] - sdg_quotient_fp.iloc[0]\n",
    "order = grad.sort_values().index.values"
   ]
  },
  {
   "cell_type": "code",
   "execution_count": null,
   "metadata": {},
   "outputs": [],
   "source": [
    "fig, ax = plt.subplots(figsize=(5, 10))\n",
    "sdg_quotient_fp.iloc[::-1][order].T.plot.barh(\n",
    "    ax=ax, color=['#014092', '#177afd', '#8bbdfe'], edgecolor='white')\n",
    "ax.set_yticklabels([sdg_names()[i] for i in order])\n",
    "ax.axvline(1, color='gray', linestyle='--')\n",
    "ax.legend(loc='center left', bbox_to_anchor=(1, 0.5))\n",
    "ax.set_xlabel('Quotient');"
   ]
  },
  {
   "cell_type": "markdown",
   "metadata": {},
   "source": [
    "### SDG Funding by Year"
   ]
  },
  {
   "cell_type": "code",
   "execution_count": null,
   "metadata": {},
   "outputs": [],
   "source": [
    "start_year = 2004\n",
    "end_year = 2019\n",
    "project_df = project_df[(project_df['start_date'].dt.year >= start_year) &\n",
    "                        (project_df['start_date'].dt.year <= end_year)]\n",
    "\n",
    "start_date_1yr_grouper = pd.Grouper(key='start_date', freq='Y')\n",
    "\n",
    "total_funding_by_year = project_df.groupby(start_date_1yr_grouper)['total_cost'].sum()\n",
    "sdg_total_funding = project_df[sdg_keys_all] * project_df['total_cost'].values[:,None]\n",
    "total_funding_by_sdg = sdg_total_funding.sum()\n",
    "sdg_total_funding['start_date'] = project_df['start_date']\n",
    "\n",
    "total_ec_funding_by_year = project_df.groupby(start_date_1yr_grouper)['ec_max_contribution'].sum()\n",
    "sdg_total_ec_funding = project_df[sdg_keys_all] * project_df['ec_max_contribution'].values[:,None]\n",
    "total_ec_funding_by_sdg = sdg_total_ec_funding.sum()\n",
    "sdg_total_ec_funding['start_date'] = project_df['start_date']"
   ]
  },
  {
   "cell_type": "code",
   "execution_count": null,
   "metadata": {},
   "outputs": [],
   "source": [
    "fund_share = (sdg_total_ec_funding.groupby(start_date_1yr_grouper)[sdg_keys].sum()\n",
    "         .divide(total_ec_funding_by_year, axis=0)) * 100\n",
    "\n",
    "fund_norm = (sdg_total_ec_funding.groupby(start_date_1yr_grouper)[sdg_keys].sum()\n",
    "         .divide(total_ec_funding_by_sdg[sdg_keys], axis=1)) * 100\n",
    "\n",
    "fig, axs = plt.subplots(ncols=2, figsize=(13.5, 5))\n",
    "\n",
    "fund_share.rolling(3).mean().plot(color=sdg_hex_color_codes().values(), ax=axs[0], legend=None, alpha=.7, linewidth=2)\n",
    "axs[0].set_xlabel('Project Start Year')\n",
    "axs[0].set_ylabel('Share of Funding in Year (%)')\n",
    "\n",
    "(fund_norm\n",
    " .rolling(3).mean()\n",
    " .rename(columns=sdg_names())\n",
    " .plot(color=sdg_hex_color_codes().values(), ax=axs[1], alpha=.7, linewidth=2))\n",
    "axs[1].legend(loc='center left', bbox_to_anchor=(1, 0.5))\n",
    "axs[1].set_xlabel('Project Start Year')\n",
    "axs[1].set_ylabel('Share of Funding by Goal (%)');"
   ]
  },
  {
   "cell_type": "markdown",
   "metadata": {},
   "source": [
    "### Temporal Trends in SDG Funding Quotient"
   ]
  },
  {
   "cell_type": "code",
   "execution_count": null,
   "metadata": {},
   "outputs": [],
   "source": [
    "# start_date_5yr_grouper = pd.Grouper(key='start_date', freq='5Y')\n",
    "sdg_fund_quotient_fp = create_quotient(\n",
    "    sdg_total_ec_funding[sdg_keys_all].groupby(project_df['framework_programme'])[sdg_keys_all].sum())[sdg_keys]"
   ]
  },
  {
   "cell_type": "code",
   "execution_count": null,
   "metadata": {},
   "outputs": [],
   "source": [
    "grad = sdg_fund_quotient_fp.iloc[2] - sdg_fund_quotient_fp.iloc[0]\n",
    "order = grad.sort_values().index.values"
   ]
  },
  {
   "cell_type": "code",
   "execution_count": null,
   "metadata": {},
   "outputs": [],
   "source": [
    "fig, ax = plt.subplots(figsize=(5, 10))\n",
    "sdg_fund_quotient_fp.iloc[::-1][order].T.plot.barh(\n",
    "    ax=ax, color=['#014092', '#177afd', '#8bbdfe'], edgecolor='white')\n",
    "ax.set_yticklabels([sdg_names()[i] for i in order])\n",
    "ax.axvline(1, color='gray', linestyle='--')\n",
    "ax.legend(loc='center left', bbox_to_anchor=(1, 0.5))\n",
    "ax.set_xlabel('5 Year Funding Quotient');"
   ]
  },
  {
   "cell_type": "markdown",
   "metadata": {},
   "source": [
    "### Coordinators"
   ]
  },
  {
   "cell_type": "code",
   "execution_count": null,
   "metadata": {},
   "outputs": [],
   "source": [
    "import seaborn as sns"
   ]
  },
  {
   "cell_type": "code",
   "execution_count": null,
   "metadata": {},
   "outputs": [],
   "source": [
    "coordinator_ohe = pd.get_dummies(project_df['coordinator_country'])\n",
    "top_countries = coordinator_ohe.sum()[coordinator_ohe.sum() > 50].index"
   ]
  },
  {
   "cell_type": "code",
   "execution_count": null,
   "metadata": {},
   "outputs": [],
   "source": [
    "project_count_by_country = project_df['coordinator_country'].value_counts()\n",
    "project_share_by_country = (project_count_by_country / project_count_by_country.sum()) * 100\n",
    "sdg_count_by_country = project_df.groupby('coordinator_country')[sdg_keys_all].sum()\n",
    "sdg_share_by_country = (sdg_count_by_country / sdg_count_by_country.sum()) * 100\n",
    "\n",
    "coordinator_sdg_lq = create_quotient(sdg_count_by_country)"
   ]
  },
  {
   "cell_type": "code",
   "execution_count": null,
   "metadata": {},
   "outputs": [],
   "source": [
    "country = 'UK'\n",
    "\n",
    "sdg_order = sdg_share_by_country.loc[country].sort_values(ascending=False).index.values\n",
    "sdg_order = sdg_order[sdg_order != 0]\n",
    "\n",
    "fig, axs = plt.subplots(figsize=(15, 7), ncols=4, nrows=4)\n",
    "\n",
    "for sdg, ax in zip(sdg_order, axs.ravel()):\n",
    "    top = sdg_share_by_country[sdg].sort_values(ascending=False)[:10]\n",
    "    colors = ['C0' if c != country else 'C1' for c in top.index.values]\n",
    "    top.plot.bar(ax=ax, color=colors, alpha=0.6)\n",
    "    ax.set_title(sdg_names()[sdg])\n",
    "    shares = project_share_by_country.loc[top.index.values]\n",
    "    ax.scatter(shares.index.values, shares.values, color=colors)\n",
    "    ax.set_xlabel('Coordinator Country')\n",
    "    ax.set_ylabel('% of SDG')\n",
    "    \n",
    "plt.tight_layout();"
   ]
  },
  {
   "cell_type": "markdown",
   "metadata": {},
   "source": [
    "### Coordinator Country Specialisation"
   ]
  },
  {
   "cell_type": "markdown",
   "metadata": {},
   "source": [
    "#### Get EU Country Codes"
   ]
  },
  {
   "cell_type": "code",
   "execution_count": null,
   "metadata": {},
   "outputs": [],
   "source": [
    "country_df = pd.read_json(f'{data_path}/raw/countries/countries_restcountries_api.json')"
   ]
  },
  {
   "cell_type": "code",
   "execution_count": null,
   "metadata": {},
   "outputs": [],
   "source": [
    "europe = []\n",
    "for code, c in zip(country_df['alpha2Code'], country_df['regionalBlocs']):\n",
    "    for x in c:\n",
    "        if x['acronym'] == 'EU':\n",
    "            europe.append(code)\n",
    "            \n",
    "europe = sorted(['UK' if e == 'GB' else e for e in europe])"
   ]
  },
  {
   "cell_type": "code",
   "execution_count": null,
   "metadata": {},
   "outputs": [],
   "source": [
    "eu_coordinator_sdg_lq = coordinator_sdg_lq.reindex(europe).dropna(how='all')"
   ]
  },
  {
   "cell_type": "code",
   "execution_count": null,
   "metadata": {},
   "outputs": [],
   "source": [
    "eu_high = project_count_by_country[project_count_by_country > 50].reindex(europe).dropna().index.values\n",
    "\n",
    "fig, axs = plt.subplots(figsize=(15, 7), ncols=4, nrows=4)\n",
    "\n",
    "for sdg, ax in zip(sdg_keys, axs.ravel()):\n",
    "    x = eu_coordinator_sdg_lq[sdg].loc[eu_high].sort_values(ascending=False)[:10]\n",
    "    x.plot.bar(ax=ax, color=sdg_hex_color_codes()[sdg])\n",
    "    ax.set_title(sdg_names()[sdg])\n",
    "    ax.set_xlabel('Coordinator Country')\n",
    "    ax.set_ylabel('LQ')\n",
    "    ax.axhline(1, color='gray', linestyle='--')\n",
    "    \n",
    "plt.tight_layout();"
   ]
  },
  {
   "cell_type": "markdown",
   "metadata": {},
   "source": [
    "Cyprus and Malta very high for water based."
   ]
  },
  {
   "cell_type": "code",
   "execution_count": null,
   "metadata": {},
   "outputs": [],
   "source": [
    "from sdg_mapping.geo.nuts import load_nuts_regions"
   ]
  },
  {
   "cell_type": "code",
   "execution_count": null,
   "metadata": {},
   "outputs": [],
   "source": [
    "nuts = load_nuts_regions(2016, f'{data_path}/raw/shapefiles', level=0, resolution=60, countries=None)"
   ]
  },
  {
   "cell_type": "code",
   "execution_count": null,
   "metadata": {},
   "outputs": [],
   "source": [
    "fig, axs = plt.subplots(ncols=4, nrows=4, figsize=(20,20))\n",
    "\n",
    "for sdg, ax in zip(sdg_keys, axs.ravel()):\n",
    "\n",
    "    nuts_sdg = nuts.set_index('CNTR_CODE')\n",
    "    nuts_sdg['lq'] = eu_coordinator_sdg_lq[sdg].reindex(eu_high).fillna(0)\n",
    "    nuts_sdg.plot(column='lq', ax=ax, cmap='viridis_r')\n",
    "    ax.set_xlim(-15, 40)\n",
    "    ax.set_ylim(30, 75)\n",
    "    ax.set_title(sdg_names()[sdg])\n",
    "    \n",
    "plt.tight_layout();"
   ]
  },
  {
   "cell_type": "code",
   "execution_count": null,
   "metadata": {},
   "outputs": [],
   "source": [
    "from sklearn.preprocessing import MultiLabelBinarizer"
   ]
  },
  {
   "cell_type": "code",
   "execution_count": null,
   "metadata": {},
   "outputs": [],
   "source": [
    "mlb = MultiLabelBinarizer()\n",
    "mlb_vecs = mlb.fit_transform(project_df['participant_countries'].fillna(''))"
   ]
  },
  {
   "cell_type": "code",
   "execution_count": null,
   "metadata": {},
   "outputs": [],
   "source": [
    "y = pd.DataFrame(mlb_vecs, columns=mlb.classes_)"
   ]
  },
  {
   "cell_type": "code",
   "execution_count": null,
   "metadata": {},
   "outputs": [],
   "source": [
    "y.sum()['DE']"
   ]
  },
  {
   "cell_type": "code",
   "execution_count": null,
   "metadata": {},
   "outputs": [],
   "source": [
    "project_df['participant_countries']"
   ]
  },
  {
   "cell_type": "code",
   "execution_count": null,
   "metadata": {},
   "outputs": [],
   "source": []
  }
 ],
 "metadata": {
  "language_info": {
   "name": "python",
   "pygments_lexer": "ipython3"
  }
 },
 "nbformat": 4,
 "nbformat_minor": 4
}
